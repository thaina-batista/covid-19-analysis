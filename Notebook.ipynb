{
 "cells": [
  {
   "cell_type": "code",
   "execution_count": null,
   "metadata": {},
   "outputs": [],
   "source": [
    "import pandas as pd\n",
    "from datetime import datetime"
   ]
  },
  {
   "cell_type": "markdown",
   "metadata": {},
   "source": [
    "## Load datasets"
   ]
  },
  {
   "cell_type": "markdown",
   "metadata": {},
   "source": [
    "### Covid-19 cases\n"
   ]
  },
  {
   "cell_type": "code",
   "execution_count": null,
   "metadata": {},
   "outputs": [],
   "source": [
    "df_covid = pd.read_csv('Datasets/covid-19-data-resource-hub-covid-19-case-counts/COVID-19 Activity.csv')"
   ]
  },
  {
   "cell_type": "markdown",
   "metadata": {},
   "source": [
    "Este dataset pode ser encontrado em: https://data.world/covid-19-data-resource-hub/covid-19-case-counts\n",
    "\n",
    "O download do arquivo utilizado neste estudo foi realizado em: xxxxx"
   ]
  },
  {
   "cell_type": "markdown",
   "metadata": {},
   "source": [
    "### Demographic"
   ]
  },
  {
   "cell_type": "code",
   "execution_count": null,
   "metadata": {},
   "outputs": [],
   "source": [
    "df_demographic = pd.read_csv('Datasets/demographic/demographic-2019.csv',  encoding='latin-1')"
   ]
  },
  {
   "cell_type": "markdown",
   "metadata": {},
   "source": [
    "Este dataset pode ser encontrado em: https://data.world/hdx/749ed4a9-6a89-4a3f-a4c8-b5359966a6e9\n",
    "        \n",
    "O download do arquivo utilizado neste estudo foi realizado em: xxxxx"
   ]
  },
  {
   "cell_type": "code",
   "execution_count": null,
   "metadata": {},
   "outputs": [],
   "source": [
    "df_demographic = df_demographic.loc[:, df_demographic.columns.intersection([\n",
    "                                         'ISO', \n",
    "                                         'Total population in millions, 2019',\n",
    "                                         'Total fertility rate, per woman, 2019',\n",
    "                                         'Population aged 0-14, percent, 2019',\n",
    "                                         'Population aged 10-24, percent, 2019',\n",
    "                                         'Population aged 15-64, percent, 2019',\n",
    "                                         'Population aged 65 and older, percent, 2019',\n",
    "                                         'Life expectancy at birth, years, 2019'])]"
   ]
  },
  {
   "cell_type": "code",
   "execution_count": null,
   "metadata": {},
   "outputs": [],
   "source": [
    "df_demographic = df_demographic.rename(columns={\"Total population in millions, 2019\": \"TOTAL_POPULATION\", \n",
    "                                                \"Total fertility rate, per woman, 2019\": \"FERTILITY_RATE\",\n",
    "                                                \"Population aged 0-14, percent, 2019\": \"PERCENT_POPULATION_AGED_0_14\",\n",
    "                                                \"Population aged 10-24, percent, 2019\": \"PERCENT_POPULATION_AGED_10_24\",\n",
    "                                                \"Population aged 15-64, percent, 2019\": \"PERCENT_POPULATION_AGED_15_64\",\n",
    "                                                \"Population aged 65 and older, percent, 2019\": \"PERCENT_POPULATION_AGED_65_OLDER\"\n",
    "                                               })"
   ]
  },
  {
   "cell_type": "markdown",
   "metadata": {},
   "source": [
    "### Cases metricts"
   ]
  },
  {
   "cell_type": "code",
   "execution_count": null,
   "metadata": {},
   "outputs": [],
   "source": [
    "df_covid['REPORT_DATE'] = pd.to_datetime(df_covid['REPORT_DATE'], format='%m/%d/%Y')"
   ]
  },
  {
   "cell_type": "code",
   "execution_count": null,
   "metadata": {},
   "outputs": [],
   "source": [
    "df_covid = df_covid.set_index('REPORT_DATE')"
   ]
  },
  {
   "cell_type": "code",
   "execution_count": null,
   "metadata": {},
   "outputs": [],
   "source": [
    "countries = df_covid['COUNTRY_SHORT_NAME'].unique()"
   ]
  },
  {
   "cell_type": "code",
   "execution_count": null,
   "metadata": {},
   "outputs": [],
   "source": [
    " for country in countries:\n",
    "        day_0_for_death = df_covid[(df_covid['COUNTRY_SHORT_NAME'] == country) & (df_covid['PEOPLE_DEATH_NEW_COUNT']>0)].index.min()\n",
    "        day_0_for_cases = df_covid[(df_covid['COUNTRY_SHORT_NAME'] == country) & (df_covid['PEOPLE_POSITIVE_NEW_CASES_COUNT']>0)].index.min()\n",
    "        df_covid.loc[df_covid['COUNTRY_SHORT_NAME'] == country, 'DAYS_AFTER_FIRST_DEATH'] = df_covid[df_covid['COUNTRY_SHORT_NAME'] == country].apply(lambda x: (x.name - day_0_for_death).days if (x.name - day_0_for_death).days >0 else None, axis=1)\n",
    "        df_covid.loc[df_covid['COUNTRY_SHORT_NAME'] == country, 'DAYS_AFTER_FIRST_CASE'] = df_covid[df_covid['COUNTRY_SHORT_NAME'] == country].apply(lambda x: (x.name - day_0_for_cases).days if (x.name - day_0_for_cases).days >0 else None, axis=1)\n",
    "        "
   ]
  },
  {
   "cell_type": "markdown",
   "metadata": {},
   "source": [
    "### FINAL DATASET"
   ]
  },
  {
   "cell_type": "code",
   "execution_count": null,
   "metadata": {},
   "outputs": [],
   "source": [
    "df = pd.merge(df_covid, df_demographic, how='left', left_on='COUNTRY_ALPHA_2_CODE', right_on='ISO')"
   ]
  },
  {
   "cell_type": "markdown",
   "metadata": {},
   "source": [
    "## Brazil dataset"
   ]
  },
  {
   "cell_type": "code",
   "execution_count": null,
   "metadata": {},
   "outputs": [],
   "source": [
    "ds_brazil = df_covid[df_covid['COUNTRY_SHORT_NAME'] == 'Brazil']"
   ]
  }
 ],
 "metadata": {
  "kernelspec": {
   "display_name": "Python 3",
   "language": "python",
   "name": "python3"
  },
  "language_info": {
   "codemirror_mode": {
    "name": "ipython",
    "version": 3
   },
   "file_extension": ".py",
   "mimetype": "text/x-python",
   "name": "python",
   "nbconvert_exporter": "python",
   "pygments_lexer": "ipython3",
   "version": "3.7.6"
  }
 },
 "nbformat": 4,
 "nbformat_minor": 2
}
