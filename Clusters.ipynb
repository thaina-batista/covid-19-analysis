{
 "cells": [
  {
   "cell_type": "code",
   "execution_count": 1,
   "metadata": {},
   "outputs": [],
   "source": [
    "from sklearn.cluster import KMeans\n",
    "from sklearn.preprocessing import LabelEncoder\n",
    "import pandas as pd"
   ]
  },
  {
   "cell_type": "markdown",
   "metadata": {},
   "source": [
    "### Load dataset"
   ]
  },
  {
   "cell_type": "code",
   "execution_count": 2,
   "metadata": {},
   "outputs": [],
   "source": [
    "df = pd.read_csv('final_dataset.csv', low_memory=False)"
   ]
  },
  {
   "cell_type": "markdown",
   "metadata": {},
   "source": [
    "### Prepare dataset"
   ]
  },
  {
   "cell_type": "code",
   "execution_count": 3,
   "metadata": {},
   "outputs": [],
   "source": [
    "df = df.drop(columns=['PEOPLE_DEATH_NEW_COUNT', \n",
    "                      'PEOPLE_POSITIVE_NEW_CASES_COUNT', \n",
    "                      'DAYS_AFTER_FIRST_DEATH', \n",
    "                      'DAYS_AFTER_FIRST_CASE',\n",
    "                      'COUNTY_NAME',\n",
    "                      'COUNTY_FIPS_NUMBER',\n",
    "                      'PEOPLE_POSITIVE_CASES_COUNT',\n",
    "                      'PROVINCE_STATE_NAME',\n",
    "                      'DATA_SOURCE_NAME',\n",
    "                      'COUNTRY_ALPHA_3_CODE',\n",
    "                      'PEOPLE_DEATH_COUNT',\n",
    "                      'ISO',\n",
    "                      'CONTINENT_NAME'])"
   ]
  },
  {
   "cell_type": "code",
   "execution_count": 4,
   "metadata": {},
   "outputs": [],
   "source": [
    "df = df.drop_duplicates()"
   ]
  },
  {
   "cell_type": "code",
   "execution_count": 5,
   "metadata": {},
   "outputs": [],
   "source": [
    "br = df[df['COUNTRY_ALPHA_2_CODE'] == 'BR']"
   ]
  },
  {
   "cell_type": "code",
   "execution_count": 6,
   "metadata": {},
   "outputs": [],
   "source": [
    "br = br.drop(columns=['COUNTRY_ALPHA_2_CODE', 'COUNTRY_SHORT_NAME'])"
   ]
  },
  {
   "cell_type": "code",
   "execution_count": 12,
   "metadata": {},
   "outputs": [],
   "source": [
    "df = df[df['COUNTRY_ALPHA_2_CODE'] != 'BR']\n",
    "df_to_kmeans = df.drop(columns=['COUNTRY_ALPHA_2_CODE', 'COUNTRY_SHORT_NAME'])"
   ]
  },
  {
   "cell_type": "markdown",
   "metadata": {},
   "source": [
    "### Train kmeans"
   ]
  },
  {
   "cell_type": "code",
   "execution_count": 14,
   "metadata": {},
   "outputs": [],
   "source": [
    "df_to_kmeans = df_to_kmeans.fillna(0)\n",
    "df_to_kmeans = df_to_kmeans.replace('-', 0, regex=True)\n",
    "df_to_kmeans = df_to_kmeans.replace(',', '', regex=True)"
   ]
  },
  {
   "cell_type": "code",
   "execution_count": 15,
   "metadata": {},
   "outputs": [],
   "source": [
    "kmeans = KMeans(n_clusters=5, random_state=0).fit(df_to_kmeans)"
   ]
  },
  {
   "cell_type": "code",
   "execution_count": 16,
   "metadata": {},
   "outputs": [],
   "source": [
    "df_to_kmeans['cluster']=kmeans.labels_"
   ]
  },
  {
   "cell_type": "markdown",
   "metadata": {},
   "source": [
    "### Predict Cluster to BR"
   ]
  },
  {
   "cell_type": "code",
   "execution_count": 17,
   "metadata": {},
   "outputs": [],
   "source": [
    "br_cluster = kmeans.predict(br)"
   ]
  },
  {
   "cell_type": "code",
   "execution_count": 21,
   "metadata": {},
   "outputs": [
    {
     "data": {
      "text/html": [
       "<div>\n",
       "<style scoped>\n",
       "    .dataframe tbody tr th:only-of-type {\n",
       "        vertical-align: middle;\n",
       "    }\n",
       "\n",
       "    .dataframe tbody tr th {\n",
       "        vertical-align: top;\n",
       "    }\n",
       "\n",
       "    .dataframe thead th {\n",
       "        text-align: right;\n",
       "    }\n",
       "</style>\n",
       "<table border=\"1\" class=\"dataframe\">\n",
       "  <thead>\n",
       "    <tr style=\"text-align: right;\">\n",
       "      <th></th>\n",
       "      <th>COUNTRY_SHORT_NAME</th>\n",
       "      <th>COUNTRY_ALPHA_2_CODE</th>\n",
       "      <th>DAYS_BETWEEN_FIRST_CASE_AND_FIRST_DEATH</th>\n",
       "      <th>TOTAL_POPULATION</th>\n",
       "      <th>FERTILITY_RATE</th>\n",
       "      <th>PERCENT_POPULATION_AGED_10_24</th>\n",
       "      <th>PERCENT_POPULATION_AGED_15_64</th>\n",
       "      <th>PERCENT_POPULATION_AGED_65_OLDER</th>\n",
       "      <th>LIFE_EXPECTANCY</th>\n",
       "    </tr>\n",
       "  </thead>\n",
       "  <tbody>\n",
       "    <tr>\n",
       "      <td>0</td>\n",
       "      <td>United States</td>\n",
       "      <td>US</td>\n",
       "      <td>39.0</td>\n",
       "      <td>329.1</td>\n",
       "      <td>1.9</td>\n",
       "      <td>20</td>\n",
       "      <td>65</td>\n",
       "      <td>16</td>\n",
       "      <td>80</td>\n",
       "    </tr>\n",
       "    <tr>\n",
       "      <td>378911</td>\n",
       "      <td>Bangladesh</td>\n",
       "      <td>BD</td>\n",
       "      <td>13.0</td>\n",
       "      <td>168.1</td>\n",
       "      <td>2</td>\n",
       "      <td>28</td>\n",
       "      <td>68</td>\n",
       "      <td>5</td>\n",
       "      <td>73</td>\n",
       "    </tr>\n",
       "    <tr>\n",
       "      <td>378914</td>\n",
       "      <td>Pakistan</td>\n",
       "      <td>PK</td>\n",
       "      <td>22.0</td>\n",
       "      <td>204.6</td>\n",
       "      <td>3.3</td>\n",
       "      <td>29</td>\n",
       "      <td>61</td>\n",
       "      <td>5</td>\n",
       "      <td>67</td>\n",
       "    </tr>\n",
       "    <tr>\n",
       "      <td>378952</td>\n",
       "      <td>Nigeria</td>\n",
       "      <td>NG</td>\n",
       "      <td>25.0</td>\n",
       "      <td>201</td>\n",
       "      <td>5.3</td>\n",
       "      <td>32</td>\n",
       "      <td>54</td>\n",
       "      <td>3</td>\n",
       "      <td>55</td>\n",
       "    </tr>\n",
       "    <tr>\n",
       "      <td>389435</td>\n",
       "      <td>Indonesia</td>\n",
       "      <td>ID</td>\n",
       "      <td>10.0</td>\n",
       "      <td>269.5</td>\n",
       "      <td>2.3</td>\n",
       "      <td>26</td>\n",
       "      <td>68</td>\n",
       "      <td>6</td>\n",
       "      <td>70</td>\n",
       "    </tr>\n",
       "  </tbody>\n",
       "</table>\n",
       "</div>"
      ],
      "text/plain": [
       "       COUNTRY_SHORT_NAME COUNTRY_ALPHA_2_CODE  \\\n",
       "0           United States                   US   \n",
       "378911         Bangladesh                   BD   \n",
       "378914           Pakistan                   PK   \n",
       "378952            Nigeria                   NG   \n",
       "389435          Indonesia                   ID   \n",
       "\n",
       "        DAYS_BETWEEN_FIRST_CASE_AND_FIRST_DEATH TOTAL_POPULATION  \\\n",
       "0                                          39.0            329.1   \n",
       "378911                                     13.0            168.1   \n",
       "378914                                     22.0            204.6   \n",
       "378952                                     25.0              201   \n",
       "389435                                     10.0            269.5   \n",
       "\n",
       "       FERTILITY_RATE PERCENT_POPULATION_AGED_10_24  \\\n",
       "0                 1.9                            20   \n",
       "378911              2                            28   \n",
       "378914            3.3                            29   \n",
       "378952            5.3                            32   \n",
       "389435            2.3                            26   \n",
       "\n",
       "       PERCENT_POPULATION_AGED_15_64 PERCENT_POPULATION_AGED_65_OLDER  \\\n",
       "0                                 65                               16   \n",
       "378911                            68                                5   \n",
       "378914                            61                                5   \n",
       "378952                            54                                3   \n",
       "389435                            68                                6   \n",
       "\n",
       "       LIFE_EXPECTANCY  \n",
       "0                   80  \n",
       "378911              73  \n",
       "378914              67  \n",
       "378952              55  \n",
       "389435              70  "
      ]
     },
     "execution_count": 21,
     "metadata": {},
     "output_type": "execute_result"
    }
   ],
   "source": [
    "df[df_to_kmeans['cluster'] == br_cluster[0]]"
   ]
  }
 ],
 "metadata": {
  "kernelspec": {
   "display_name": "Python 3",
   "language": "python",
   "name": "python3"
  },
  "language_info": {
   "codemirror_mode": {
    "name": "ipython",
    "version": 3
   },
   "file_extension": ".py",
   "mimetype": "text/x-python",
   "name": "python",
   "nbconvert_exporter": "python",
   "pygments_lexer": "ipython3",
   "version": "3.7.6"
  }
 },
 "nbformat": 4,
 "nbformat_minor": 2
}
