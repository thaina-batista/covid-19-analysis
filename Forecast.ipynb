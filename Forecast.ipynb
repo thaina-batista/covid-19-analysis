{
 "cells": [
  {
   "cell_type": "code",
   "execution_count": 1,
   "metadata": {},
   "outputs": [
    {
     "name": "stderr",
     "output_type": "stream",
     "text": [
      "ERROR:fbprophet:Importing plotly failed. Interactive plots will not work.\n"
     ]
    }
   ],
   "source": [
    "from fbprophet import Prophet\n",
    "from fbprophet.diagnostics import performance_metrics\n",
    "from fbprophet.diagnostics import cross_validation\n",
    "from fbprophet.plot import plot_cross_validation_metric\n",
    "import pandas as pd"
   ]
  },
  {
   "cell_type": "markdown",
   "metadata": {},
   "source": [
    "## Read dataset and pre processing"
   ]
  },
  {
   "cell_type": "markdown",
   "metadata": {},
   "source": [
    "### Read Covid-19 cases\n"
   ]
  },
  {
   "cell_type": "code",
   "execution_count": 2,
   "metadata": {},
   "outputs": [],
   "source": [
    "df = pd.read_csv('Datasets/covid_19_cases/COVID-19 Activity.csv')"
   ]
  },
  {
   "cell_type": "markdown",
   "metadata": {},
   "source": [
    "Este dataset pode ser encontrado em: https://data.world/covid-19-data-resource-hub/covid-19-case-counts\n",
    "\n",
    "O download do arquivo utilizado neste estudo foi realizado em: 10/06/2020"
   ]
  },
  {
   "cell_type": "markdown",
   "metadata": {},
   "source": [
    "### Prepare Dataframes"
   ]
  },
  {
   "cell_type": "code",
   "execution_count": 3,
   "metadata": {},
   "outputs": [],
   "source": [
    "df['REPORT_DATE'] = pd.to_datetime(df['REPORT_DATE'], format='%m/%d/%Y')"
   ]
  },
  {
   "cell_type": "code",
   "execution_count": 4,
   "metadata": {},
   "outputs": [],
   "source": [
    "df_br = df[df['COUNTRY_ALPHA_2_CODE'] =='BR']"
   ]
  },
  {
   "cell_type": "code",
   "execution_count": 5,
   "metadata": {},
   "outputs": [],
   "source": [
    "df_br_cases = df_br.loc[:, df_br.columns.intersection([\n",
    "                                         'REPORT_DATE', \n",
    "                                         'PEOPLE_POSITIVE_NEW_CASES_COUNT'])]"
   ]
  },
  {
   "cell_type": "code",
   "execution_count": 6,
   "metadata": {},
   "outputs": [],
   "source": [
    "df_br_deaths = df_br.loc[:, df_br.columns.intersection([\n",
    "                                         'REPORT_DATE', \n",
    "                                         'PEOPLE_DEATH_NEW_COUNT'])]"
   ]
  },
  {
   "cell_type": "code",
   "execution_count": 7,
   "metadata": {},
   "outputs": [],
   "source": [
    "df_br_deaths = df_br.rename(columns={'REPORT_DATE':'ds','PEOPLE_DEATH_NEW_COUNT':'y'})"
   ]
  },
  {
   "cell_type": "code",
   "execution_count": 8,
   "metadata": {},
   "outputs": [],
   "source": [
    "df_br_cases = df_br.rename(columns={'REPORT_DATE':'ds','PEOPLE_POSITIVE_NEW_CASES_COUNT':'y'})"
   ]
  },
  {
   "cell_type": "markdown",
   "metadata": {},
   "source": [
    "## Predict"
   ]
  },
  {
   "cell_type": "markdown",
   "metadata": {},
   "source": [
    "### Cases"
   ]
  },
  {
   "cell_type": "code",
   "execution_count": 9,
   "metadata": {},
   "outputs": [],
   "source": [
    "cases_model = Prophet(daily_seasonality=True)"
   ]
  },
  {
   "cell_type": "code",
   "execution_count": 10,
   "metadata": {},
   "outputs": [
    {
     "name": "stderr",
     "output_type": "stream",
     "text": [
      "INFO:fbprophet:Disabling yearly seasonality. Run prophet with yearly_seasonality=True to override this.\n"
     ]
    },
    {
     "data": {
      "text/plain": [
       "<fbprophet.forecaster.Prophet at 0x7fa8ebbb8310>"
      ]
     },
     "execution_count": 10,
     "metadata": {},
     "output_type": "execute_result"
    }
   ],
   "source": [
    "cases_model.fit(df_br_cases)"
   ]
  },
  {
   "cell_type": "markdown",
   "metadata": {},
   "source": [
    "### Cases after 30 days"
   ]
  },
  {
   "cell_type": "code",
   "execution_count": 11,
   "metadata": {},
   "outputs": [],
   "source": [
    "future_cases = cases_model.make_future_dataframe(periods=30)"
   ]
  },
  {
   "cell_type": "code",
   "execution_count": 12,
   "metadata": {},
   "outputs": [
    {
     "data": {
      "text/html": [
       "<div>\n",
       "<style scoped>\n",
       "    .dataframe tbody tr th:only-of-type {\n",
       "        vertical-align: middle;\n",
       "    }\n",
       "\n",
       "    .dataframe tbody tr th {\n",
       "        vertical-align: top;\n",
       "    }\n",
       "\n",
       "    .dataframe thead th {\n",
       "        text-align: right;\n",
       "    }\n",
       "</style>\n",
       "<table border=\"1\" class=\"dataframe\">\n",
       "  <thead>\n",
       "    <tr style=\"text-align: right;\">\n",
       "      <th></th>\n",
       "      <th>ds</th>\n",
       "      <th>yhat</th>\n",
       "      <th>yhat_lower</th>\n",
       "      <th>yhat_upper</th>\n",
       "    </tr>\n",
       "  </thead>\n",
       "  <tbody>\n",
       "    <tr>\n",
       "      <td>163</td>\n",
       "      <td>2020-06-11</td>\n",
       "      <td>27549.531907</td>\n",
       "      <td>24734.811537</td>\n",
       "      <td>30275.328985</td>\n",
       "    </tr>\n",
       "    <tr>\n",
       "      <td>164</td>\n",
       "      <td>2020-06-12</td>\n",
       "      <td>28330.906573</td>\n",
       "      <td>25605.657829</td>\n",
       "      <td>31118.135943</td>\n",
       "    </tr>\n",
       "    <tr>\n",
       "      <td>165</td>\n",
       "      <td>2020-06-13</td>\n",
       "      <td>28876.568144</td>\n",
       "      <td>25904.238312</td>\n",
       "      <td>31572.836065</td>\n",
       "    </tr>\n",
       "    <tr>\n",
       "      <td>166</td>\n",
       "      <td>2020-06-14</td>\n",
       "      <td>29147.109588</td>\n",
       "      <td>26189.979965</td>\n",
       "      <td>31809.367641</td>\n",
       "    </tr>\n",
       "    <tr>\n",
       "      <td>167</td>\n",
       "      <td>2020-06-15</td>\n",
       "      <td>27765.153035</td>\n",
       "      <td>24961.160003</td>\n",
       "      <td>30582.611747</td>\n",
       "    </tr>\n",
       "    <tr>\n",
       "      <td>168</td>\n",
       "      <td>2020-06-16</td>\n",
       "      <td>27987.213147</td>\n",
       "      <td>25333.725794</td>\n",
       "      <td>31073.377593</td>\n",
       "    </tr>\n",
       "    <tr>\n",
       "      <td>169</td>\n",
       "      <td>2020-06-17</td>\n",
       "      <td>30421.223898</td>\n",
       "      <td>27542.402996</td>\n",
       "      <td>33207.973500</td>\n",
       "    </tr>\n",
       "    <tr>\n",
       "      <td>170</td>\n",
       "      <td>2020-06-18</td>\n",
       "      <td>31212.504428</td>\n",
       "      <td>28466.894309</td>\n",
       "      <td>33898.503015</td>\n",
       "    </tr>\n",
       "    <tr>\n",
       "      <td>171</td>\n",
       "      <td>2020-06-19</td>\n",
       "      <td>31993.879094</td>\n",
       "      <td>29184.194327</td>\n",
       "      <td>34910.583383</td>\n",
       "    </tr>\n",
       "    <tr>\n",
       "      <td>172</td>\n",
       "      <td>2020-06-20</td>\n",
       "      <td>32539.540665</td>\n",
       "      <td>29926.469401</td>\n",
       "      <td>35316.623512</td>\n",
       "    </tr>\n",
       "    <tr>\n",
       "      <td>173</td>\n",
       "      <td>2020-06-21</td>\n",
       "      <td>32810.082109</td>\n",
       "      <td>30100.108198</td>\n",
       "      <td>35756.864259</td>\n",
       "    </tr>\n",
       "    <tr>\n",
       "      <td>174</td>\n",
       "      <td>2020-06-22</td>\n",
       "      <td>31428.125556</td>\n",
       "      <td>28659.086183</td>\n",
       "      <td>34214.538971</td>\n",
       "    </tr>\n",
       "    <tr>\n",
       "      <td>175</td>\n",
       "      <td>2020-06-23</td>\n",
       "      <td>31650.185668</td>\n",
       "      <td>28829.654683</td>\n",
       "      <td>34359.362063</td>\n",
       "    </tr>\n",
       "    <tr>\n",
       "      <td>176</td>\n",
       "      <td>2020-06-24</td>\n",
       "      <td>34084.196419</td>\n",
       "      <td>31041.148465</td>\n",
       "      <td>36959.867689</td>\n",
       "    </tr>\n",
       "    <tr>\n",
       "      <td>177</td>\n",
       "      <td>2020-06-25</td>\n",
       "      <td>34875.476949</td>\n",
       "      <td>32021.934149</td>\n",
       "      <td>37783.146005</td>\n",
       "    </tr>\n",
       "    <tr>\n",
       "      <td>178</td>\n",
       "      <td>2020-06-26</td>\n",
       "      <td>35656.851615</td>\n",
       "      <td>32694.273983</td>\n",
       "      <td>38639.515914</td>\n",
       "    </tr>\n",
       "    <tr>\n",
       "      <td>179</td>\n",
       "      <td>2020-06-27</td>\n",
       "      <td>36202.513186</td>\n",
       "      <td>33259.288609</td>\n",
       "      <td>38841.254931</td>\n",
       "    </tr>\n",
       "    <tr>\n",
       "      <td>180</td>\n",
       "      <td>2020-06-28</td>\n",
       "      <td>36473.054630</td>\n",
       "      <td>33547.292745</td>\n",
       "      <td>39302.261278</td>\n",
       "    </tr>\n",
       "    <tr>\n",
       "      <td>181</td>\n",
       "      <td>2020-06-29</td>\n",
       "      <td>35091.098077</td>\n",
       "      <td>32158.225114</td>\n",
       "      <td>37780.064143</td>\n",
       "    </tr>\n",
       "    <tr>\n",
       "      <td>182</td>\n",
       "      <td>2020-06-30</td>\n",
       "      <td>35313.158189</td>\n",
       "      <td>32447.556214</td>\n",
       "      <td>38305.759453</td>\n",
       "    </tr>\n",
       "    <tr>\n",
       "      <td>183</td>\n",
       "      <td>2020-07-01</td>\n",
       "      <td>37747.168940</td>\n",
       "      <td>34810.580932</td>\n",
       "      <td>40781.158170</td>\n",
       "    </tr>\n",
       "    <tr>\n",
       "      <td>184</td>\n",
       "      <td>2020-07-02</td>\n",
       "      <td>38538.449470</td>\n",
       "      <td>35465.277749</td>\n",
       "      <td>41532.972135</td>\n",
       "    </tr>\n",
       "    <tr>\n",
       "      <td>185</td>\n",
       "      <td>2020-07-03</td>\n",
       "      <td>39319.824136</td>\n",
       "      <td>36205.432058</td>\n",
       "      <td>42303.357491</td>\n",
       "    </tr>\n",
       "    <tr>\n",
       "      <td>186</td>\n",
       "      <td>2020-07-04</td>\n",
       "      <td>39865.485707</td>\n",
       "      <td>36744.471669</td>\n",
       "      <td>42794.155267</td>\n",
       "    </tr>\n",
       "    <tr>\n",
       "      <td>187</td>\n",
       "      <td>2020-07-05</td>\n",
       "      <td>40136.027151</td>\n",
       "      <td>36986.599207</td>\n",
       "      <td>43066.553339</td>\n",
       "    </tr>\n",
       "    <tr>\n",
       "      <td>188</td>\n",
       "      <td>2020-07-06</td>\n",
       "      <td>38754.070598</td>\n",
       "      <td>35560.216010</td>\n",
       "      <td>41608.551287</td>\n",
       "    </tr>\n",
       "    <tr>\n",
       "      <td>189</td>\n",
       "      <td>2020-07-07</td>\n",
       "      <td>38976.130710</td>\n",
       "      <td>35951.264944</td>\n",
       "      <td>42156.642277</td>\n",
       "    </tr>\n",
       "    <tr>\n",
       "      <td>190</td>\n",
       "      <td>2020-07-08</td>\n",
       "      <td>41410.141461</td>\n",
       "      <td>38526.138227</td>\n",
       "      <td>44385.680163</td>\n",
       "    </tr>\n",
       "    <tr>\n",
       "      <td>191</td>\n",
       "      <td>2020-07-09</td>\n",
       "      <td>42201.421991</td>\n",
       "      <td>39110.248429</td>\n",
       "      <td>45347.662667</td>\n",
       "    </tr>\n",
       "    <tr>\n",
       "      <td>192</td>\n",
       "      <td>2020-07-10</td>\n",
       "      <td>42982.796657</td>\n",
       "      <td>39909.973536</td>\n",
       "      <td>45858.013028</td>\n",
       "    </tr>\n",
       "  </tbody>\n",
       "</table>\n",
       "</div>"
      ],
      "text/plain": [
       "            ds          yhat    yhat_lower    yhat_upper\n",
       "163 2020-06-11  27549.531907  24734.811537  30275.328985\n",
       "164 2020-06-12  28330.906573  25605.657829  31118.135943\n",
       "165 2020-06-13  28876.568144  25904.238312  31572.836065\n",
       "166 2020-06-14  29147.109588  26189.979965  31809.367641\n",
       "167 2020-06-15  27765.153035  24961.160003  30582.611747\n",
       "168 2020-06-16  27987.213147  25333.725794  31073.377593\n",
       "169 2020-06-17  30421.223898  27542.402996  33207.973500\n",
       "170 2020-06-18  31212.504428  28466.894309  33898.503015\n",
       "171 2020-06-19  31993.879094  29184.194327  34910.583383\n",
       "172 2020-06-20  32539.540665  29926.469401  35316.623512\n",
       "173 2020-06-21  32810.082109  30100.108198  35756.864259\n",
       "174 2020-06-22  31428.125556  28659.086183  34214.538971\n",
       "175 2020-06-23  31650.185668  28829.654683  34359.362063\n",
       "176 2020-06-24  34084.196419  31041.148465  36959.867689\n",
       "177 2020-06-25  34875.476949  32021.934149  37783.146005\n",
       "178 2020-06-26  35656.851615  32694.273983  38639.515914\n",
       "179 2020-06-27  36202.513186  33259.288609  38841.254931\n",
       "180 2020-06-28  36473.054630  33547.292745  39302.261278\n",
       "181 2020-06-29  35091.098077  32158.225114  37780.064143\n",
       "182 2020-06-30  35313.158189  32447.556214  38305.759453\n",
       "183 2020-07-01  37747.168940  34810.580932  40781.158170\n",
       "184 2020-07-02  38538.449470  35465.277749  41532.972135\n",
       "185 2020-07-03  39319.824136  36205.432058  42303.357491\n",
       "186 2020-07-04  39865.485707  36744.471669  42794.155267\n",
       "187 2020-07-05  40136.027151  36986.599207  43066.553339\n",
       "188 2020-07-06  38754.070598  35560.216010  41608.551287\n",
       "189 2020-07-07  38976.130710  35951.264944  42156.642277\n",
       "190 2020-07-08  41410.141461  38526.138227  44385.680163\n",
       "191 2020-07-09  42201.421991  39110.248429  45347.662667\n",
       "192 2020-07-10  42982.796657  39909.973536  45858.013028"
      ]
     },
     "execution_count": 12,
     "metadata": {},
     "output_type": "execute_result"
    }
   ],
   "source": [
    "forecast_cases = cases_model.predict(future_cases)\n",
    "forecast_cases[['ds', 'yhat', 'yhat_lower', 'yhat_upper']].tail(30)"
   ]
  },
  {
   "cell_type": "code",
   "execution_count": 13,
   "metadata": {},
   "outputs": [
    {
     "data": {
      "image/png": "[encoded data removed]",
      "text/plain": [
       "<Figure size 720x432 with 1 Axes>"
      ]
     },
     "metadata": {},
     "output_type": "display_data"
    }
   ],
   "source": [
    "cases_graph = cases_model.plot(forecast_cases)"
   ]
  },
  {
   "cell_type": "code",
   "execution_count": 14,
   "metadata": {},
   "outputs": [
    {
     "name": "stderr",
     "output_type": "stream",
     "text": [
      "INFO:fbprophet:Making 155 forecasts with cutoffs between 2020-01-07 23:59:59.999999970 and 2020-06-09 23:59:59.999999970\n",
      "INFO:fbprophet:n_changepoints greater than number of observations.Using 5.\n",
      "INFO:fbprophet:n_changepoints greater than number of observations.Using 6.\n",
      "INFO:fbprophet:n_changepoints greater than number of observations.Using 7.\n",
      "INFO:fbprophet:n_changepoints greater than number of observations.Using 7.\n",
      "INFO:fbprophet:n_changepoints greater than number of observations.Using 8.\n",
      "INFO:fbprophet:n_changepoints greater than number of observations.Using 9.\n",
      "INFO:fbprophet:n_changepoints greater than number of observations.Using 10.\n",
      "INFO:fbprophet:n_changepoints greater than number of observations.Using 11.\n",
      "INFO:fbprophet:n_changepoints greater than number of observations.Using 11.\n",
      "INFO:fbprophet:n_changepoints greater than number of observations.Using 12.\n",
      "INFO:fbprophet:n_changepoints greater than number of observations.Using 13.\n",
      "INFO:fbprophet:n_changepoints greater than number of observations.Using 14.\n",
      "INFO:fbprophet:n_changepoints greater than number of observations.Using 15.\n",
      "INFO:fbprophet:n_changepoints greater than number of observations.Using 15.\n",
      "INFO:fbprophet:n_changepoints greater than number of observations.Using 16.\n",
      "INFO:fbprophet:n_changepoints greater than number of observations.Using 17.\n",
      "INFO:fbprophet:n_changepoints greater than number of observations.Using 18.\n",
      "INFO:fbprophet:n_changepoints greater than number of observations.Using 19.\n",
      "INFO:fbprophet:n_changepoints greater than number of observations.Using 19.\n",
      "INFO:fbprophet:n_changepoints greater than number of observations.Using 20.\n",
      "INFO:fbprophet:n_changepoints greater than number of observations.Using 21.\n",
      "INFO:fbprophet:n_changepoints greater than number of observations.Using 22.\n",
      "INFO:fbprophet:n_changepoints greater than number of observations.Using 23.\n",
      "INFO:fbprophet:n_changepoints greater than number of observations.Using 23.\n",
      "INFO:fbprophet:n_changepoints greater than number of observations.Using 24.\n"
     ]
    },
    {
     "data": {
      "text/html": [
       "<div>\n",
       "<style scoped>\n",
       "    .dataframe tbody tr th:only-of-type {\n",
       "        vertical-align: middle;\n",
       "    }\n",
       "\n",
       "    .dataframe tbody tr th {\n",
       "        vertical-align: top;\n",
       "    }\n",
       "\n",
       "    .dataframe thead th {\n",
       "        text-align: right;\n",
       "    }\n",
       "</style>\n",
       "<table border=\"1\" class=\"dataframe\">\n",
       "  <thead>\n",
       "    <tr style=\"text-align: right;\">\n",
       "      <th></th>\n",
       "      <th>ds</th>\n",
       "      <th>yhat</th>\n",
       "      <th>yhat_lower</th>\n",
       "      <th>yhat_upper</th>\n",
       "      <th>y</th>\n",
       "      <th>cutoff</th>\n",
       "    </tr>\n",
       "  </thead>\n",
       "  <tbody>\n",
       "    <tr>\n",
       "      <td>0</td>\n",
       "      <td>2020-01-08</td>\n",
       "      <td>0.0</td>\n",
       "      <td>-1.651646e-09</td>\n",
       "      <td>1.592634e-09</td>\n",
       "      <td>0</td>\n",
       "      <td>2020-01-07 23:59:59.999999970</td>\n",
       "    </tr>\n",
       "    <tr>\n",
       "      <td>1</td>\n",
       "      <td>2020-01-09</td>\n",
       "      <td>0.0</td>\n",
       "      <td>-1.470258e-09</td>\n",
       "      <td>1.628497e-09</td>\n",
       "      <td>0</td>\n",
       "      <td>2020-01-08 23:59:59.999999970</td>\n",
       "    </tr>\n",
       "    <tr>\n",
       "      <td>2</td>\n",
       "      <td>2020-01-10</td>\n",
       "      <td>0.0</td>\n",
       "      <td>-1.614915e-09</td>\n",
       "      <td>1.485383e-09</td>\n",
       "      <td>0</td>\n",
       "      <td>2020-01-09 23:59:59.999999970</td>\n",
       "    </tr>\n",
       "    <tr>\n",
       "      <td>3</td>\n",
       "      <td>2020-01-11</td>\n",
       "      <td>0.0</td>\n",
       "      <td>-1.462034e-09</td>\n",
       "      <td>1.371185e-09</td>\n",
       "      <td>0</td>\n",
       "      <td>2020-01-10 23:59:59.999999970</td>\n",
       "    </tr>\n",
       "    <tr>\n",
       "      <td>4</td>\n",
       "      <td>2020-01-12</td>\n",
       "      <td>0.0</td>\n",
       "      <td>-1.465059e-09</td>\n",
       "      <td>1.428801e-09</td>\n",
       "      <td>0</td>\n",
       "      <td>2020-01-11 23:59:59.999999970</td>\n",
       "    </tr>\n",
       "  </tbody>\n",
       "</table>\n",
       "</div>"
      ],
      "text/plain": [
       "          ds  yhat    yhat_lower    yhat_upper  y  \\\n",
       "0 2020-01-08   0.0 -1.651646e-09  1.592634e-09  0   \n",
       "1 2020-01-09   0.0 -1.470258e-09  1.628497e-09  0   \n",
       "2 2020-01-10   0.0 -1.614915e-09  1.485383e-09  0   \n",
       "3 2020-01-11   0.0 -1.462034e-09  1.371185e-09  0   \n",
       "4 2020-01-12   0.0 -1.465059e-09  1.428801e-09  0   \n",
       "\n",
       "                         cutoff  \n",
       "0 2020-01-07 23:59:59.999999970  \n",
       "1 2020-01-08 23:59:59.999999970  \n",
       "2 2020-01-09 23:59:59.999999970  \n",
       "3 2020-01-10 23:59:59.999999970  \n",
       "4 2020-01-11 23:59:59.999999970  "
      ]
     },
     "execution_count": 14,
     "metadata": {},
     "output_type": "execute_result"
    }
   ],
   "source": [
    "df_cv = cross_validation(cases_model, horizon=30)\n",
    "df_cv.head()"
   ]
  },
  {
   "cell_type": "code",
   "execution_count": 15,
   "metadata": {},
   "outputs": [
    {
     "name": "stderr",
     "output_type": "stream",
     "text": [
      "INFO:fbprophet:Skipping MAPE because y close to 0\n"
     ]
    }
   ],
   "source": [
    "df_p = performance_metrics(df_cv)"
   ]
  },
  {
   "cell_type": "code",
   "execution_count": 16,
   "metadata": {},
   "outputs": [
    {
     "name": "stderr",
     "output_type": "stream",
     "text": [
      "INFO:fbprophet:Skipping MAPE because y close to 0\n",
      "INFO:fbprophet:Skipping MAPE because y close to 0\n"
     ]
    },
    {
     "ename": "TypeError",
     "evalue": "'NoneType' object is not subscriptable",
     "output_type": "error",
     "traceback": [
      "\u001b[0;31m\u001b[0m",
      "\u001b[0;31mTypeError\u001b[0mTraceback (most recent call last)",
      "\u001b[0;32m<ipython-input-16-4dfe3b0b717f>\u001b[0m in \u001b[0;36m<module>\u001b[0;34m\u001b[0m\n\u001b[0;32m----> 1\u001b[0;31m \u001b[0mmape\u001b[0m \u001b[0;34m=\u001b[0m \u001b[0mplot_cross_validation_metric\u001b[0m\u001b[0;34m(\u001b[0m\u001b[0mdf_cv\u001b[0m\u001b[0;34m,\u001b[0m \u001b[0mmetric\u001b[0m\u001b[0;34m=\u001b[0m\u001b[0;34m'mape'\u001b[0m\u001b[0;34m)\u001b[0m\u001b[0;34m\u001b[0m\u001b[0;34m\u001b[0m\u001b[0m\n\u001b[0m",
      "\u001b[0;32m/usr/local/lib/python3.7/site-packages/fbprophet/plot.py\u001b[0m in \u001b[0;36mplot_cross_validation_metric\u001b[0;34m(df_cv, metric, rolling_window, ax, figsize)\u001b[0m\n\u001b[1;32m    489\u001b[0m     \u001b[0;31m# Some work because matplotlib does not handle timedelta\u001b[0m\u001b[0;34m\u001b[0m\u001b[0;34m\u001b[0m\u001b[0;34m\u001b[0m\u001b[0m\n\u001b[1;32m    490\u001b[0m     \u001b[0;31m# Target ~10 ticks.\u001b[0m\u001b[0;34m\u001b[0m\u001b[0;34m\u001b[0m\u001b[0;34m\u001b[0m\u001b[0m\n\u001b[0;32m--> 491\u001b[0;31m     \u001b[0mtick_w\u001b[0m \u001b[0;34m=\u001b[0m \u001b[0mmax\u001b[0m\u001b[0;34m(\u001b[0m\u001b[0mdf_none\u001b[0m\u001b[0;34m[\u001b[0m\u001b[0;34m'horizon'\u001b[0m\u001b[0;34m]\u001b[0m\u001b[0;34m.\u001b[0m\u001b[0mastype\u001b[0m\u001b[0;34m(\u001b[0m\u001b[0;34m'timedelta64[ns]'\u001b[0m\u001b[0;34m)\u001b[0m\u001b[0;34m)\u001b[0m \u001b[0;34m/\u001b[0m \u001b[0;36m10.\u001b[0m\u001b[0;34m\u001b[0m\u001b[0;34m\u001b[0m\u001b[0m\n\u001b[0m\u001b[1;32m    492\u001b[0m     \u001b[0;31m# Find the largest time resolution that has <1 unit per bin.\u001b[0m\u001b[0;34m\u001b[0m\u001b[0;34m\u001b[0m\u001b[0;34m\u001b[0m\u001b[0m\n\u001b[1;32m    493\u001b[0m     \u001b[0mdts\u001b[0m \u001b[0;34m=\u001b[0m \u001b[0;34m[\u001b[0m\u001b[0;34m'D'\u001b[0m\u001b[0;34m,\u001b[0m \u001b[0;34m'h'\u001b[0m\u001b[0;34m,\u001b[0m \u001b[0;34m'm'\u001b[0m\u001b[0;34m,\u001b[0m \u001b[0;34m's'\u001b[0m\u001b[0;34m,\u001b[0m \u001b[0;34m'ms'\u001b[0m\u001b[0;34m,\u001b[0m \u001b[0;34m'us'\u001b[0m\u001b[0;34m,\u001b[0m \u001b[0;34m'ns'\u001b[0m\u001b[0;34m]\u001b[0m\u001b[0;34m\u001b[0m\u001b[0;34m\u001b[0m\u001b[0m\n",
      "\u001b[0;31mTypeError\u001b[0m: 'NoneType' object is not subscriptable"
     ]
    },
    {
     "data": {
      "image/png": "[encoded data removed]",
      "text/plain": [
       "<Figure size 720x432 with 1 Axes>"
      ]
     },
     "metadata": {},
     "output_type": "display_data"
    }
   ],
   "source": [
    "mape = plot_cross_validation_metric(df_cv, metric='mape')"
   ]
  },
  {
   "cell_type": "markdown",
   "metadata": {},
   "source": [
    "#### Cases after 6 months"
   ]
  },
  {
   "cell_type": "code",
   "execution_count": 17,
   "metadata": {},
   "outputs": [],
   "source": [
    "future_cases = cases_model.make_future_dataframe(periods=180)"
   ]
  },
  {
   "cell_type": "code",
   "execution_count": 18,
   "metadata": {},
   "outputs": [
    {
     "data": {
      "text/html": [
       "<div>\n",
       "<style scoped>\n",
       "    .dataframe tbody tr th:only-of-type {\n",
       "        vertical-align: middle;\n",
       "    }\n",
       "\n",
       "    .dataframe tbody tr th {\n",
       "        vertical-align: top;\n",
       "    }\n",
       "\n",
       "    .dataframe thead th {\n",
       "        text-align: right;\n",
       "    }\n",
       "</style>\n",
       "<table border=\"1\" class=\"dataframe\">\n",
       "  <thead>\n",
       "    <tr style=\"text-align: right;\">\n",
       "      <th></th>\n",
       "      <th>ds</th>\n",
       "      <th>yhat</th>\n",
       "      <th>yhat_lower</th>\n",
       "      <th>yhat_upper</th>\n",
       "    </tr>\n",
       "  </thead>\n",
       "  <tbody>\n",
       "    <tr>\n",
       "      <td>163</td>\n",
       "      <td>2020-06-11</td>\n",
       "      <td>27549.531907</td>\n",
       "      <td>24966.991939</td>\n",
       "      <td>30488.079286</td>\n",
       "    </tr>\n",
       "    <tr>\n",
       "      <td>164</td>\n",
       "      <td>2020-06-12</td>\n",
       "      <td>28330.906573</td>\n",
       "      <td>25445.309177</td>\n",
       "      <td>31229.138473</td>\n",
       "    </tr>\n",
       "    <tr>\n",
       "      <td>165</td>\n",
       "      <td>2020-06-13</td>\n",
       "      <td>28876.568144</td>\n",
       "      <td>26076.564088</td>\n",
       "      <td>31779.410378</td>\n",
       "    </tr>\n",
       "    <tr>\n",
       "      <td>166</td>\n",
       "      <td>2020-06-14</td>\n",
       "      <td>29147.109588</td>\n",
       "      <td>26345.906068</td>\n",
       "      <td>31828.613613</td>\n",
       "    </tr>\n",
       "    <tr>\n",
       "      <td>167</td>\n",
       "      <td>2020-06-15</td>\n",
       "      <td>27765.153035</td>\n",
       "      <td>25060.909332</td>\n",
       "      <td>30774.488991</td>\n",
       "    </tr>\n",
       "    <tr>\n",
       "      <td>...</td>\n",
       "      <td>...</td>\n",
       "      <td>...</td>\n",
       "      <td>...</td>\n",
       "      <td>...</td>\n",
       "    </tr>\n",
       "    <tr>\n",
       "      <td>338</td>\n",
       "      <td>2020-12-03</td>\n",
       "      <td>119123.844932</td>\n",
       "      <td>99099.821174</td>\n",
       "      <td>136788.879689</td>\n",
       "    </tr>\n",
       "    <tr>\n",
       "      <td>339</td>\n",
       "      <td>2020-12-04</td>\n",
       "      <td>119905.219598</td>\n",
       "      <td>99574.181222</td>\n",
       "      <td>137656.105398</td>\n",
       "    </tr>\n",
       "    <tr>\n",
       "      <td>340</td>\n",
       "      <td>2020-12-05</td>\n",
       "      <td>120450.881169</td>\n",
       "      <td>100327.752075</td>\n",
       "      <td>138751.771419</td>\n",
       "    </tr>\n",
       "    <tr>\n",
       "      <td>341</td>\n",
       "      <td>2020-12-06</td>\n",
       "      <td>120721.422614</td>\n",
       "      <td>99627.644748</td>\n",
       "      <td>139177.406464</td>\n",
       "    </tr>\n",
       "    <tr>\n",
       "      <td>342</td>\n",
       "      <td>2020-12-07</td>\n",
       "      <td>119339.466060</td>\n",
       "      <td>98761.759659</td>\n",
       "      <td>138112.969014</td>\n",
       "    </tr>\n",
       "  </tbody>\n",
       "</table>\n",
       "<p>180 rows × 4 columns</p>\n",
       "</div>"
      ],
      "text/plain": [
       "            ds           yhat     yhat_lower     yhat_upper\n",
       "163 2020-06-11   27549.531907   24966.991939   30488.079286\n",
       "164 2020-06-12   28330.906573   25445.309177   31229.138473\n",
       "165 2020-06-13   28876.568144   26076.564088   31779.410378\n",
       "166 2020-06-14   29147.109588   26345.906068   31828.613613\n",
       "167 2020-06-15   27765.153035   25060.909332   30774.488991\n",
       "..         ...            ...            ...            ...\n",
       "338 2020-12-03  119123.844932   99099.821174  136788.879689\n",
       "339 2020-12-04  119905.219598   99574.181222  137656.105398\n",
       "340 2020-12-05  120450.881169  100327.752075  138751.771419\n",
       "341 2020-12-06  120721.422614   99627.644748  139177.406464\n",
       "342 2020-12-07  119339.466060   98761.759659  138112.969014\n",
       "\n",
       "[180 rows x 4 columns]"
      ]
     },
     "execution_count": 18,
     "metadata": {},
     "output_type": "execute_result"
    }
   ],
   "source": [
    "forecast_cases = cases_model.predict(future_cases)\n",
    "forecast_cases[['ds', 'yhat', 'yhat_lower', 'yhat_upper']].tail(180)"
   ]
  },
  {
   "cell_type": "code",
   "execution_count": 19,
   "metadata": {},
   "outputs": [
    {
     "data": {
      "image/png": "[encoded data removed]",
      "text/plain": [
       "<Figure size 720x432 with 1 Axes>"
      ]
     },
     "metadata": {},
     "output_type": "display_data"
    }
   ],
   "source": [
    "cases_graph = cases_model.plot(forecast_cases)"
   ]
  },
  {
   "cell_type": "code",
   "execution_count": 20,
   "metadata": {},
   "outputs": [
    {
     "name": "stderr",
     "output_type": "stream",
     "text": [
      "INFO:fbprophet:Making 155 forecasts with cutoffs between 2020-01-07 23:59:59.999999820 and 2020-06-09 23:59:59.999999820\n",
      "INFO:fbprophet:n_changepoints greater than number of observations.Using 5.\n",
      "INFO:fbprophet:n_changepoints greater than number of observations.Using 6.\n",
      "INFO:fbprophet:n_changepoints greater than number of observations.Using 7.\n",
      "INFO:fbprophet:n_changepoints greater than number of observations.Using 7.\n",
      "INFO:fbprophet:n_changepoints greater than number of observations.Using 8.\n",
      "INFO:fbprophet:n_changepoints greater than number of observations.Using 9.\n",
      "INFO:fbprophet:n_changepoints greater than number of observations.Using 10.\n",
      "INFO:fbprophet:n_changepoints greater than number of observations.Using 11.\n",
      "INFO:fbprophet:n_changepoints greater than number of observations.Using 11.\n",
      "INFO:fbprophet:n_changepoints greater than number of observations.Using 12.\n",
      "INFO:fbprophet:n_changepoints greater than number of observations.Using 13.\n",
      "INFO:fbprophet:n_changepoints greater than number of observations.Using 14.\n",
      "INFO:fbprophet:n_changepoints greater than number of observations.Using 15.\n",
      "INFO:fbprophet:n_changepoints greater than number of observations.Using 15.\n",
      "INFO:fbprophet:n_changepoints greater than number of observations.Using 16.\n",
      "INFO:fbprophet:n_changepoints greater than number of observations.Using 17.\n",
      "INFO:fbprophet:n_changepoints greater than number of observations.Using 18.\n",
      "INFO:fbprophet:n_changepoints greater than number of observations.Using 19.\n",
      "INFO:fbprophet:n_changepoints greater than number of observations.Using 19.\n",
      "INFO:fbprophet:n_changepoints greater than number of observations.Using 20.\n",
      "INFO:fbprophet:n_changepoints greater than number of observations.Using 21.\n",
      "INFO:fbprophet:n_changepoints greater than number of observations.Using 22.\n",
      "INFO:fbprophet:n_changepoints greater than number of observations.Using 23.\n",
      "INFO:fbprophet:n_changepoints greater than number of observations.Using 23.\n",
      "INFO:fbprophet:n_changepoints greater than number of observations.Using 24.\n"
     ]
    },
    {
     "data": {
      "text/html": [
       "<div>\n",
       "<style scoped>\n",
       "    .dataframe tbody tr th:only-of-type {\n",
       "        vertical-align: middle;\n",
       "    }\n",
       "\n",
       "    .dataframe tbody tr th {\n",
       "        vertical-align: top;\n",
       "    }\n",
       "\n",
       "    .dataframe thead th {\n",
       "        text-align: right;\n",
       "    }\n",
       "</style>\n",
       "<table border=\"1\" class=\"dataframe\">\n",
       "  <thead>\n",
       "    <tr style=\"text-align: right;\">\n",
       "      <th></th>\n",
       "      <th>ds</th>\n",
       "      <th>yhat</th>\n",
       "      <th>yhat_lower</th>\n",
       "      <th>yhat_upper</th>\n",
       "      <th>y</th>\n",
       "      <th>cutoff</th>\n",
       "    </tr>\n",
       "  </thead>\n",
       "  <tbody>\n",
       "    <tr>\n",
       "      <td>0</td>\n",
       "      <td>2020-01-08</td>\n",
       "      <td>0.0</td>\n",
       "      <td>-1.796114e-09</td>\n",
       "      <td>1.600885e-09</td>\n",
       "      <td>0</td>\n",
       "      <td>2020-01-07 23:59:59.999999820</td>\n",
       "    </tr>\n",
       "    <tr>\n",
       "      <td>1</td>\n",
       "      <td>2020-01-09</td>\n",
       "      <td>0.0</td>\n",
       "      <td>-1.529511e-09</td>\n",
       "      <td>1.571695e-09</td>\n",
       "      <td>0</td>\n",
       "      <td>2020-01-08 23:59:59.999999820</td>\n",
       "    </tr>\n",
       "    <tr>\n",
       "      <td>2</td>\n",
       "      <td>2020-01-10</td>\n",
       "      <td>0.0</td>\n",
       "      <td>-1.546062e-09</td>\n",
       "      <td>1.471809e-09</td>\n",
       "      <td>0</td>\n",
       "      <td>2020-01-09 23:59:59.999999820</td>\n",
       "    </tr>\n",
       "    <tr>\n",
       "      <td>3</td>\n",
       "      <td>2020-01-11</td>\n",
       "      <td>0.0</td>\n",
       "      <td>-1.390053e-09</td>\n",
       "      <td>1.494540e-09</td>\n",
       "      <td>0</td>\n",
       "      <td>2020-01-10 23:59:59.999999820</td>\n",
       "    </tr>\n",
       "    <tr>\n",
       "      <td>4</td>\n",
       "      <td>2020-01-12</td>\n",
       "      <td>0.0</td>\n",
       "      <td>-1.466090e-09</td>\n",
       "      <td>1.411121e-09</td>\n",
       "      <td>0</td>\n",
       "      <td>2020-01-11 23:59:59.999999820</td>\n",
       "    </tr>\n",
       "  </tbody>\n",
       "</table>\n",
       "</div>"
      ],
      "text/plain": [
       "          ds  yhat    yhat_lower    yhat_upper  y  \\\n",
       "0 2020-01-08   0.0 -1.796114e-09  1.600885e-09  0   \n",
       "1 2020-01-09   0.0 -1.529511e-09  1.571695e-09  0   \n",
       "2 2020-01-10   0.0 -1.546062e-09  1.471809e-09  0   \n",
       "3 2020-01-11   0.0 -1.390053e-09  1.494540e-09  0   \n",
       "4 2020-01-12   0.0 -1.466090e-09  1.411121e-09  0   \n",
       "\n",
       "                         cutoff  \n",
       "0 2020-01-07 23:59:59.999999820  \n",
       "1 2020-01-08 23:59:59.999999820  \n",
       "2 2020-01-09 23:59:59.999999820  \n",
       "3 2020-01-10 23:59:59.999999820  \n",
       "4 2020-01-11 23:59:59.999999820  "
      ]
     },
     "execution_count": 20,
     "metadata": {},
     "output_type": "execute_result"
    }
   ],
   "source": [
    "df_cv = cross_validation(cases_model, horizon=180)\n",
    "df_cv.head()"
   ]
  },
  {
   "cell_type": "code",
   "execution_count": 21,
   "metadata": {},
   "outputs": [
    {
     "name": "stderr",
     "output_type": "stream",
     "text": [
      "INFO:fbprophet:Skipping MAPE because y close to 0\n"
     ]
    }
   ],
   "source": [
    "df_p = performance_metrics(df_cv)"
   ]
  },
  {
   "cell_type": "code",
   "execution_count": 22,
   "metadata": {},
   "outputs": [
    {
     "name": "stderr",
     "output_type": "stream",
     "text": [
      "INFO:fbprophet:Skipping MAPE because y close to 0\n",
      "INFO:fbprophet:Skipping MAPE because y close to 0\n"
     ]
    },
    {
     "ename": "TypeError",
     "evalue": "'NoneType' object is not subscriptable",
     "output_type": "error",
     "traceback": [
      "\u001b[0;31m\u001b[0m",
      "\u001b[0;31mTypeError\u001b[0mTraceback (most recent call last)",
      "\u001b[0;32m<ipython-input-22-4dfe3b0b717f>\u001b[0m in \u001b[0;36m<module>\u001b[0;34m\u001b[0m\n\u001b[0;32m----> 1\u001b[0;31m \u001b[0mmape\u001b[0m \u001b[0;34m=\u001b[0m \u001b[0mplot_cross_validation_metric\u001b[0m\u001b[0;34m(\u001b[0m\u001b[0mdf_cv\u001b[0m\u001b[0;34m,\u001b[0m \u001b[0mmetric\u001b[0m\u001b[0;34m=\u001b[0m\u001b[0;34m'mape'\u001b[0m\u001b[0;34m)\u001b[0m\u001b[0;34m\u001b[0m\u001b[0;34m\u001b[0m\u001b[0m\n\u001b[0m",
      "\u001b[0;32m/usr/local/lib/python3.7/site-packages/fbprophet/plot.py\u001b[0m in \u001b[0;36mplot_cross_validation_metric\u001b[0;34m(df_cv, metric, rolling_window, ax, figsize)\u001b[0m\n\u001b[1;32m    489\u001b[0m     \u001b[0;31m# Some work because matplotlib does not handle timedelta\u001b[0m\u001b[0;34m\u001b[0m\u001b[0;34m\u001b[0m\u001b[0;34m\u001b[0m\u001b[0m\n\u001b[1;32m    490\u001b[0m     \u001b[0;31m# Target ~10 ticks.\u001b[0m\u001b[0;34m\u001b[0m\u001b[0;34m\u001b[0m\u001b[0;34m\u001b[0m\u001b[0m\n\u001b[0;32m--> 491\u001b[0;31m     \u001b[0mtick_w\u001b[0m \u001b[0;34m=\u001b[0m \u001b[0mmax\u001b[0m\u001b[0;34m(\u001b[0m\u001b[0mdf_none\u001b[0m\u001b[0;34m[\u001b[0m\u001b[0;34m'horizon'\u001b[0m\u001b[0;34m]\u001b[0m\u001b[0;34m.\u001b[0m\u001b[0mastype\u001b[0m\u001b[0;34m(\u001b[0m\u001b[0;34m'timedelta64[ns]'\u001b[0m\u001b[0;34m)\u001b[0m\u001b[0;34m)\u001b[0m \u001b[0;34m/\u001b[0m \u001b[0;36m10.\u001b[0m\u001b[0;34m\u001b[0m\u001b[0;34m\u001b[0m\u001b[0m\n\u001b[0m\u001b[1;32m    492\u001b[0m     \u001b[0;31m# Find the largest time resolution that has <1 unit per bin.\u001b[0m\u001b[0;34m\u001b[0m\u001b[0;34m\u001b[0m\u001b[0;34m\u001b[0m\u001b[0m\n\u001b[1;32m    493\u001b[0m     \u001b[0mdts\u001b[0m \u001b[0;34m=\u001b[0m \u001b[0;34m[\u001b[0m\u001b[0;34m'D'\u001b[0m\u001b[0;34m,\u001b[0m \u001b[0;34m'h'\u001b[0m\u001b[0;34m,\u001b[0m \u001b[0;34m'm'\u001b[0m\u001b[0;34m,\u001b[0m \u001b[0;34m's'\u001b[0m\u001b[0;34m,\u001b[0m \u001b[0;34m'ms'\u001b[0m\u001b[0;34m,\u001b[0m \u001b[0;34m'us'\u001b[0m\u001b[0;34m,\u001b[0m \u001b[0;34m'ns'\u001b[0m\u001b[0;34m]\u001b[0m\u001b[0;34m\u001b[0m\u001b[0;34m\u001b[0m\u001b[0m\n",
      "\u001b[0;31mTypeError\u001b[0m: 'NoneType' object is not subscriptable"
     ]
    },
    {
     "data": {
      "image/png": "[encoded data removed]",
      "text/plain": [
       "<Figure size 720x432 with 1 Axes>"
      ]
     },
     "metadata": {},
     "output_type": "display_data"
    }
   ],
   "source": [
    "mape = plot_cross_validation_metric(df_cv, metric='mape')"
   ]
  },
  {
   "cell_type": "markdown",
   "metadata": {},
   "source": [
    "### Deaths"
   ]
  },
  {
   "cell_type": "code",
   "execution_count": 23,
   "metadata": {},
   "outputs": [],
   "source": [
    "deaths_model = Prophet(daily_seasonality=True)"
   ]
  },
  {
   "cell_type": "code",
   "execution_count": 24,
   "metadata": {},
   "outputs": [
    {
     "name": "stderr",
     "output_type": "stream",
     "text": [
      "INFO:fbprophet:Disabling yearly seasonality. Run prophet with yearly_seasonality=True to override this.\n"
     ]
    },
    {
     "data": {
      "text/plain": [
       "<fbprophet.forecaster.Prophet at 0x7fa8ea189ad0>"
      ]
     },
     "execution_count": 24,
     "metadata": {},
     "output_type": "execute_result"
    }
   ],
   "source": [
    "deaths_model.fit(df_br_deaths)"
   ]
  },
  {
   "cell_type": "markdown",
   "metadata": {},
   "source": [
    "#### Deaths in 30 days"
   ]
  },
  {
   "cell_type": "code",
   "execution_count": 25,
   "metadata": {},
   "outputs": [],
   "source": [
    "future_deaths = deaths_model.make_future_dataframe(periods=30)"
   ]
  },
  {
   "cell_type": "code",
   "execution_count": 26,
   "metadata": {},
   "outputs": [
    {
     "data": {
      "text/html": [
       "<div>\n",
       "<style scoped>\n",
       "    .dataframe tbody tr th:only-of-type {\n",
       "        vertical-align: middle;\n",
       "    }\n",
       "\n",
       "    .dataframe tbody tr th {\n",
       "        vertical-align: top;\n",
       "    }\n",
       "\n",
       "    .dataframe thead th {\n",
       "        text-align: right;\n",
       "    }\n",
       "</style>\n",
       "<table border=\"1\" class=\"dataframe\">\n",
       "  <thead>\n",
       "    <tr style=\"text-align: right;\">\n",
       "      <th></th>\n",
       "      <th>ds</th>\n",
       "      <th>yhat</th>\n",
       "      <th>yhat_lower</th>\n",
       "      <th>yhat_upper</th>\n",
       "    </tr>\n",
       "  </thead>\n",
       "  <tbody>\n",
       "    <tr>\n",
       "      <td>163</td>\n",
       "      <td>2020-06-11</td>\n",
       "      <td>1161.302297</td>\n",
       "      <td>1023.981825</td>\n",
       "      <td>1305.442570</td>\n",
       "    </tr>\n",
       "    <tr>\n",
       "      <td>164</td>\n",
       "      <td>2020-06-12</td>\n",
       "      <td>1207.370042</td>\n",
       "      <td>1070.307309</td>\n",
       "      <td>1345.350337</td>\n",
       "    </tr>\n",
       "    <tr>\n",
       "      <td>165</td>\n",
       "      <td>2020-06-13</td>\n",
       "      <td>1190.319922</td>\n",
       "      <td>1053.072124</td>\n",
       "      <td>1329.044492</td>\n",
       "    </tr>\n",
       "    <tr>\n",
       "      <td>166</td>\n",
       "      <td>2020-06-14</td>\n",
       "      <td>1183.249024</td>\n",
       "      <td>1041.109787</td>\n",
       "      <td>1315.522139</td>\n",
       "    </tr>\n",
       "    <tr>\n",
       "      <td>167</td>\n",
       "      <td>2020-06-15</td>\n",
       "      <td>1101.049314</td>\n",
       "      <td>954.808838</td>\n",
       "      <td>1235.560515</td>\n",
       "    </tr>\n",
       "    <tr>\n",
       "      <td>168</td>\n",
       "      <td>2020-06-16</td>\n",
       "      <td>1146.109850</td>\n",
       "      <td>1006.370862</td>\n",
       "      <td>1286.117775</td>\n",
       "    </tr>\n",
       "    <tr>\n",
       "      <td>169</td>\n",
       "      <td>2020-06-17</td>\n",
       "      <td>1285.651928</td>\n",
       "      <td>1151.351918</td>\n",
       "      <td>1417.861518</td>\n",
       "    </tr>\n",
       "    <tr>\n",
       "      <td>170</td>\n",
       "      <td>2020-06-18</td>\n",
       "      <td>1278.887495</td>\n",
       "      <td>1140.984033</td>\n",
       "      <td>1415.860314</td>\n",
       "    </tr>\n",
       "    <tr>\n",
       "      <td>171</td>\n",
       "      <td>2020-06-19</td>\n",
       "      <td>1324.955240</td>\n",
       "      <td>1193.504767</td>\n",
       "      <td>1466.187803</td>\n",
       "    </tr>\n",
       "    <tr>\n",
       "      <td>172</td>\n",
       "      <td>2020-06-20</td>\n",
       "      <td>1307.905121</td>\n",
       "      <td>1175.063318</td>\n",
       "      <td>1448.832156</td>\n",
       "    </tr>\n",
       "    <tr>\n",
       "      <td>173</td>\n",
       "      <td>2020-06-21</td>\n",
       "      <td>1300.834222</td>\n",
       "      <td>1160.949156</td>\n",
       "      <td>1448.258895</td>\n",
       "    </tr>\n",
       "    <tr>\n",
       "      <td>174</td>\n",
       "      <td>2020-06-22</td>\n",
       "      <td>1218.634512</td>\n",
       "      <td>1071.506846</td>\n",
       "      <td>1360.989018</td>\n",
       "    </tr>\n",
       "    <tr>\n",
       "      <td>175</td>\n",
       "      <td>2020-06-23</td>\n",
       "      <td>1263.695048</td>\n",
       "      <td>1128.535690</td>\n",
       "      <td>1407.162089</td>\n",
       "    </tr>\n",
       "    <tr>\n",
       "      <td>176</td>\n",
       "      <td>2020-06-24</td>\n",
       "      <td>1403.237126</td>\n",
       "      <td>1270.782490</td>\n",
       "      <td>1542.663007</td>\n",
       "    </tr>\n",
       "    <tr>\n",
       "      <td>177</td>\n",
       "      <td>2020-06-25</td>\n",
       "      <td>1396.472694</td>\n",
       "      <td>1259.968923</td>\n",
       "      <td>1535.889909</td>\n",
       "    </tr>\n",
       "    <tr>\n",
       "      <td>178</td>\n",
       "      <td>2020-06-26</td>\n",
       "      <td>1442.540439</td>\n",
       "      <td>1307.382698</td>\n",
       "      <td>1585.260648</td>\n",
       "    </tr>\n",
       "    <tr>\n",
       "      <td>179</td>\n",
       "      <td>2020-06-27</td>\n",
       "      <td>1425.490319</td>\n",
       "      <td>1282.330562</td>\n",
       "      <td>1581.859719</td>\n",
       "    </tr>\n",
       "    <tr>\n",
       "      <td>180</td>\n",
       "      <td>2020-06-28</td>\n",
       "      <td>1418.419421</td>\n",
       "      <td>1286.563745</td>\n",
       "      <td>1566.873263</td>\n",
       "    </tr>\n",
       "    <tr>\n",
       "      <td>181</td>\n",
       "      <td>2020-06-29</td>\n",
       "      <td>1336.219711</td>\n",
       "      <td>1179.421830</td>\n",
       "      <td>1483.147541</td>\n",
       "    </tr>\n",
       "    <tr>\n",
       "      <td>182</td>\n",
       "      <td>2020-06-30</td>\n",
       "      <td>1381.280247</td>\n",
       "      <td>1241.429031</td>\n",
       "      <td>1530.135953</td>\n",
       "    </tr>\n",
       "    <tr>\n",
       "      <td>183</td>\n",
       "      <td>2020-07-01</td>\n",
       "      <td>1520.822324</td>\n",
       "      <td>1379.297469</td>\n",
       "      <td>1655.757882</td>\n",
       "    </tr>\n",
       "    <tr>\n",
       "      <td>184</td>\n",
       "      <td>2020-07-02</td>\n",
       "      <td>1514.057892</td>\n",
       "      <td>1363.552390</td>\n",
       "      <td>1659.716700</td>\n",
       "    </tr>\n",
       "    <tr>\n",
       "      <td>185</td>\n",
       "      <td>2020-07-03</td>\n",
       "      <td>1560.125637</td>\n",
       "      <td>1410.247549</td>\n",
       "      <td>1706.078188</td>\n",
       "    </tr>\n",
       "    <tr>\n",
       "      <td>186</td>\n",
       "      <td>2020-07-04</td>\n",
       "      <td>1543.075517</td>\n",
       "      <td>1409.403911</td>\n",
       "      <td>1689.467576</td>\n",
       "    </tr>\n",
       "    <tr>\n",
       "      <td>187</td>\n",
       "      <td>2020-07-05</td>\n",
       "      <td>1536.004619</td>\n",
       "      <td>1397.632991</td>\n",
       "      <td>1684.741598</td>\n",
       "    </tr>\n",
       "    <tr>\n",
       "      <td>188</td>\n",
       "      <td>2020-07-06</td>\n",
       "      <td>1453.804909</td>\n",
       "      <td>1309.679488</td>\n",
       "      <td>1592.412921</td>\n",
       "    </tr>\n",
       "    <tr>\n",
       "      <td>189</td>\n",
       "      <td>2020-07-07</td>\n",
       "      <td>1498.865445</td>\n",
       "      <td>1352.690246</td>\n",
       "      <td>1647.066820</td>\n",
       "    </tr>\n",
       "    <tr>\n",
       "      <td>190</td>\n",
       "      <td>2020-07-08</td>\n",
       "      <td>1638.407522</td>\n",
       "      <td>1502.338705</td>\n",
       "      <td>1783.187844</td>\n",
       "    </tr>\n",
       "    <tr>\n",
       "      <td>191</td>\n",
       "      <td>2020-07-09</td>\n",
       "      <td>1631.643090</td>\n",
       "      <td>1485.438015</td>\n",
       "      <td>1780.688736</td>\n",
       "    </tr>\n",
       "    <tr>\n",
       "      <td>192</td>\n",
       "      <td>2020-07-10</td>\n",
       "      <td>1677.710835</td>\n",
       "      <td>1536.849461</td>\n",
       "      <td>1817.388161</td>\n",
       "    </tr>\n",
       "  </tbody>\n",
       "</table>\n",
       "</div>"
      ],
      "text/plain": [
       "            ds         yhat   yhat_lower   yhat_upper\n",
       "163 2020-06-11  1161.302297  1023.981825  1305.442570\n",
       "164 2020-06-12  1207.370042  1070.307309  1345.350337\n",
       "165 2020-06-13  1190.319922  1053.072124  1329.044492\n",
       "166 2020-06-14  1183.249024  1041.109787  1315.522139\n",
       "167 2020-06-15  1101.049314   954.808838  1235.560515\n",
       "168 2020-06-16  1146.109850  1006.370862  1286.117775\n",
       "169 2020-06-17  1285.651928  1151.351918  1417.861518\n",
       "170 2020-06-18  1278.887495  1140.984033  1415.860314\n",
       "171 2020-06-19  1324.955240  1193.504767  1466.187803\n",
       "172 2020-06-20  1307.905121  1175.063318  1448.832156\n",
       "173 2020-06-21  1300.834222  1160.949156  1448.258895\n",
       "174 2020-06-22  1218.634512  1071.506846  1360.989018\n",
       "175 2020-06-23  1263.695048  1128.535690  1407.162089\n",
       "176 2020-06-24  1403.237126  1270.782490  1542.663007\n",
       "177 2020-06-25  1396.472694  1259.968923  1535.889909\n",
       "178 2020-06-26  1442.540439  1307.382698  1585.260648\n",
       "179 2020-06-27  1425.490319  1282.330562  1581.859719\n",
       "180 2020-06-28  1418.419421  1286.563745  1566.873263\n",
       "181 2020-06-29  1336.219711  1179.421830  1483.147541\n",
       "182 2020-06-30  1381.280247  1241.429031  1530.135953\n",
       "183 2020-07-01  1520.822324  1379.297469  1655.757882\n",
       "184 2020-07-02  1514.057892  1363.552390  1659.716700\n",
       "185 2020-07-03  1560.125637  1410.247549  1706.078188\n",
       "186 2020-07-04  1543.075517  1409.403911  1689.467576\n",
       "187 2020-07-05  1536.004619  1397.632991  1684.741598\n",
       "188 2020-07-06  1453.804909  1309.679488  1592.412921\n",
       "189 2020-07-07  1498.865445  1352.690246  1647.066820\n",
       "190 2020-07-08  1638.407522  1502.338705  1783.187844\n",
       "191 2020-07-09  1631.643090  1485.438015  1780.688736\n",
       "192 2020-07-10  1677.710835  1536.849461  1817.388161"
      ]
     },
     "execution_count": 26,
     "metadata": {},
     "output_type": "execute_result"
    }
   ],
   "source": [
    "forecast_deaths = deaths_model.predict(future_deaths)\n",
    "forecast_deaths[['ds', 'yhat', 'yhat_lower', 'yhat_upper']].tail(30)"
   ]
  },
  {
   "cell_type": "code",
   "execution_count": 27,
   "metadata": {},
   "outputs": [
    {
     "data": {
      "image/png": "[encoded data removed]",
      "text/plain": [
       "<Figure size 720x432 with 1 Axes>"
      ]
     },
     "metadata": {},
     "output_type": "display_data"
    }
   ],
   "source": [
    "deaths_graph = deaths_model.plot(forecast_deaths)"
   ]
  },
  {
   "cell_type": "code",
   "execution_count": 28,
   "metadata": {},
   "outputs": [
    {
     "name": "stderr",
     "output_type": "stream",
     "text": [
      "INFO:fbprophet:Making 155 forecasts with cutoffs between 2020-01-07 23:59:59.999999970 and 2020-06-09 23:59:59.999999970\n",
      "INFO:fbprophet:n_changepoints greater than number of observations.Using 5.\n",
      "INFO:fbprophet:n_changepoints greater than number of observations.Using 6.\n",
      "INFO:fbprophet:n_changepoints greater than number of observations.Using 7.\n",
      "INFO:fbprophet:n_changepoints greater than number of observations.Using 7.\n",
      "INFO:fbprophet:n_changepoints greater than number of observations.Using 8.\n",
      "INFO:fbprophet:n_changepoints greater than number of observations.Using 9.\n",
      "INFO:fbprophet:n_changepoints greater than number of observations.Using 10.\n",
      "INFO:fbprophet:n_changepoints greater than number of observations.Using 11.\n",
      "INFO:fbprophet:n_changepoints greater than number of observations.Using 11.\n",
      "INFO:fbprophet:n_changepoints greater than number of observations.Using 12.\n",
      "INFO:fbprophet:n_changepoints greater than number of observations.Using 13.\n",
      "INFO:fbprophet:n_changepoints greater than number of observations.Using 14.\n",
      "INFO:fbprophet:n_changepoints greater than number of observations.Using 15.\n",
      "INFO:fbprophet:n_changepoints greater than number of observations.Using 15.\n",
      "INFO:fbprophet:n_changepoints greater than number of observations.Using 16.\n",
      "INFO:fbprophet:n_changepoints greater than number of observations.Using 17.\n",
      "INFO:fbprophet:n_changepoints greater than number of observations.Using 18.\n",
      "INFO:fbprophet:n_changepoints greater than number of observations.Using 19.\n",
      "INFO:fbprophet:n_changepoints greater than number of observations.Using 19.\n",
      "INFO:fbprophet:n_changepoints greater than number of observations.Using 20.\n",
      "INFO:fbprophet:n_changepoints greater than number of observations.Using 21.\n",
      "INFO:fbprophet:n_changepoints greater than number of observations.Using 22.\n",
      "INFO:fbprophet:n_changepoints greater than number of observations.Using 23.\n",
      "INFO:fbprophet:n_changepoints greater than number of observations.Using 23.\n",
      "INFO:fbprophet:n_changepoints greater than number of observations.Using 24.\n"
     ]
    },
    {
     "data": {
      "text/html": [
       "<div>\n",
       "<style scoped>\n",
       "    .dataframe tbody tr th:only-of-type {\n",
       "        vertical-align: middle;\n",
       "    }\n",
       "\n",
       "    .dataframe tbody tr th {\n",
       "        vertical-align: top;\n",
       "    }\n",
       "\n",
       "    .dataframe thead th {\n",
       "        text-align: right;\n",
       "    }\n",
       "</style>\n",
       "<table border=\"1\" class=\"dataframe\">\n",
       "  <thead>\n",
       "    <tr style=\"text-align: right;\">\n",
       "      <th></th>\n",
       "      <th>ds</th>\n",
       "      <th>yhat</th>\n",
       "      <th>yhat_lower</th>\n",
       "      <th>yhat_upper</th>\n",
       "      <th>y</th>\n",
       "      <th>cutoff</th>\n",
       "    </tr>\n",
       "  </thead>\n",
       "  <tbody>\n",
       "    <tr>\n",
       "      <td>0</td>\n",
       "      <td>2020-01-08</td>\n",
       "      <td>0.0</td>\n",
       "      <td>-1.458147e-09</td>\n",
       "      <td>1.550830e-09</td>\n",
       "      <td>0</td>\n",
       "      <td>2020-01-07 23:59:59.999999970</td>\n",
       "    </tr>\n",
       "    <tr>\n",
       "      <td>1</td>\n",
       "      <td>2020-01-09</td>\n",
       "      <td>0.0</td>\n",
       "      <td>-1.632872e-09</td>\n",
       "      <td>1.467131e-09</td>\n",
       "      <td>0</td>\n",
       "      <td>2020-01-08 23:59:59.999999970</td>\n",
       "    </tr>\n",
       "    <tr>\n",
       "      <td>2</td>\n",
       "      <td>2020-01-10</td>\n",
       "      <td>0.0</td>\n",
       "      <td>-1.541831e-09</td>\n",
       "      <td>1.569996e-09</td>\n",
       "      <td>0</td>\n",
       "      <td>2020-01-09 23:59:59.999999970</td>\n",
       "    </tr>\n",
       "    <tr>\n",
       "      <td>3</td>\n",
       "      <td>2020-01-11</td>\n",
       "      <td>0.0</td>\n",
       "      <td>-1.415601e-09</td>\n",
       "      <td>1.594173e-09</td>\n",
       "      <td>0</td>\n",
       "      <td>2020-01-10 23:59:59.999999970</td>\n",
       "    </tr>\n",
       "    <tr>\n",
       "      <td>4</td>\n",
       "      <td>2020-01-12</td>\n",
       "      <td>0.0</td>\n",
       "      <td>-1.494504e-09</td>\n",
       "      <td>1.419064e-09</td>\n",
       "      <td>0</td>\n",
       "      <td>2020-01-11 23:59:59.999999970</td>\n",
       "    </tr>\n",
       "  </tbody>\n",
       "</table>\n",
       "</div>"
      ],
      "text/plain": [
       "          ds  yhat    yhat_lower    yhat_upper  y  \\\n",
       "0 2020-01-08   0.0 -1.458147e-09  1.550830e-09  0   \n",
       "1 2020-01-09   0.0 -1.632872e-09  1.467131e-09  0   \n",
       "2 2020-01-10   0.0 -1.541831e-09  1.569996e-09  0   \n",
       "3 2020-01-11   0.0 -1.415601e-09  1.594173e-09  0   \n",
       "4 2020-01-12   0.0 -1.494504e-09  1.419064e-09  0   \n",
       "\n",
       "                         cutoff  \n",
       "0 2020-01-07 23:59:59.999999970  \n",
       "1 2020-01-08 23:59:59.999999970  \n",
       "2 2020-01-09 23:59:59.999999970  \n",
       "3 2020-01-10 23:59:59.999999970  \n",
       "4 2020-01-11 23:59:59.999999970  "
      ]
     },
     "execution_count": 28,
     "metadata": {},
     "output_type": "execute_result"
    }
   ],
   "source": [
    "df_cv = cross_validation(deaths_model, horizon=30)\n",
    "df_cv.head()"
   ]
  },
  {
   "cell_type": "code",
   "execution_count": 29,
   "metadata": {},
   "outputs": [
    {
     "name": "stderr",
     "output_type": "stream",
     "text": [
      "INFO:fbprophet:Skipping MAPE because y close to 0\n"
     ]
    }
   ],
   "source": [
    "df_p = performance_metrics(df_cv)"
   ]
  },
  {
   "cell_type": "code",
   "execution_count": 30,
   "metadata": {},
   "outputs": [
    {
     "name": "stderr",
     "output_type": "stream",
     "text": [
      "INFO:fbprophet:Skipping MAPE because y close to 0\n",
      "INFO:fbprophet:Skipping MAPE because y close to 0\n"
     ]
    },
    {
     "ename": "TypeError",
     "evalue": "'NoneType' object is not subscriptable",
     "output_type": "error",
     "traceback": [
      "\u001b[0;31m\u001b[0m",
      "\u001b[0;31mTypeError\u001b[0mTraceback (most recent call last)",
      "\u001b[0;32m<ipython-input-30-4dfe3b0b717f>\u001b[0m in \u001b[0;36m<module>\u001b[0;34m\u001b[0m\n\u001b[0;32m----> 1\u001b[0;31m \u001b[0mmape\u001b[0m \u001b[0;34m=\u001b[0m \u001b[0mplot_cross_validation_metric\u001b[0m\u001b[0;34m(\u001b[0m\u001b[0mdf_cv\u001b[0m\u001b[0;34m,\u001b[0m \u001b[0mmetric\u001b[0m\u001b[0;34m=\u001b[0m\u001b[0;34m'mape'\u001b[0m\u001b[0;34m)\u001b[0m\u001b[0;34m\u001b[0m\u001b[0;34m\u001b[0m\u001b[0m\n\u001b[0m",
      "\u001b[0;32m/usr/local/lib/python3.7/site-packages/fbprophet/plot.py\u001b[0m in \u001b[0;36mplot_cross_validation_metric\u001b[0;34m(df_cv, metric, rolling_window, ax, figsize)\u001b[0m\n\u001b[1;32m    489\u001b[0m     \u001b[0;31m# Some work because matplotlib does not handle timedelta\u001b[0m\u001b[0;34m\u001b[0m\u001b[0;34m\u001b[0m\u001b[0;34m\u001b[0m\u001b[0m\n\u001b[1;32m    490\u001b[0m     \u001b[0;31m# Target ~10 ticks.\u001b[0m\u001b[0;34m\u001b[0m\u001b[0;34m\u001b[0m\u001b[0;34m\u001b[0m\u001b[0m\n\u001b[0;32m--> 491\u001b[0;31m     \u001b[0mtick_w\u001b[0m \u001b[0;34m=\u001b[0m \u001b[0mmax\u001b[0m\u001b[0;34m(\u001b[0m\u001b[0mdf_none\u001b[0m\u001b[0;34m[\u001b[0m\u001b[0;34m'horizon'\u001b[0m\u001b[0;34m]\u001b[0m\u001b[0;34m.\u001b[0m\u001b[0mastype\u001b[0m\u001b[0;34m(\u001b[0m\u001b[0;34m'timedelta64[ns]'\u001b[0m\u001b[0;34m)\u001b[0m\u001b[0;34m)\u001b[0m \u001b[0;34m/\u001b[0m \u001b[0;36m10.\u001b[0m\u001b[0;34m\u001b[0m\u001b[0;34m\u001b[0m\u001b[0m\n\u001b[0m\u001b[1;32m    492\u001b[0m     \u001b[0;31m# Find the largest time resolution that has <1 unit per bin.\u001b[0m\u001b[0;34m\u001b[0m\u001b[0;34m\u001b[0m\u001b[0;34m\u001b[0m\u001b[0m\n\u001b[1;32m    493\u001b[0m     \u001b[0mdts\u001b[0m \u001b[0;34m=\u001b[0m \u001b[0;34m[\u001b[0m\u001b[0;34m'D'\u001b[0m\u001b[0;34m,\u001b[0m \u001b[0;34m'h'\u001b[0m\u001b[0;34m,\u001b[0m \u001b[0;34m'm'\u001b[0m\u001b[0;34m,\u001b[0m \u001b[0;34m's'\u001b[0m\u001b[0;34m,\u001b[0m \u001b[0;34m'ms'\u001b[0m\u001b[0;34m,\u001b[0m \u001b[0;34m'us'\u001b[0m\u001b[0;34m,\u001b[0m \u001b[0;34m'ns'\u001b[0m\u001b[0;34m]\u001b[0m\u001b[0;34m\u001b[0m\u001b[0;34m\u001b[0m\u001b[0m\n",
      "\u001b[0;31mTypeError\u001b[0m: 'NoneType' object is not subscriptable"
     ]
    },
    {
     "data": {
      "image/png": "[encoded data removed]",
      "text/plain": [
       "<Figure size 720x432 with 1 Axes>"
      ]
     },
     "metadata": {},
     "output_type": "display_data"
    }
   ],
   "source": [
    "mape = plot_cross_validation_metric(df_cv, metric='mape')"
   ]
  },
  {
   "cell_type": "markdown",
   "metadata": {},
   "source": [
    "#### Deaths in 6 months"
   ]
  },
  {
   "cell_type": "code",
   "execution_count": null,
   "metadata": {},
   "outputs": [],
   "source": [
    "future_deaths = deaths_model.make_future_dataframe(periods=180)"
   ]
  },
  {
   "cell_type": "code",
   "execution_count": null,
   "metadata": {},
   "outputs": [],
   "source": [
    "forecast_deaths = deaths_model.predict(future_deaths)\n",
    "forecast_deaths[['ds', 'yhat', 'yhat_lower', 'yhat_upper']].tail(180)"
   ]
  },
  {
   "cell_type": "code",
   "execution_count": null,
   "metadata": {},
   "outputs": [],
   "source": [
    "deaths_graph = deaths_model.plot(forecast_deaths)"
   ]
  },
  {
   "cell_type": "code",
   "execution_count": null,
   "metadata": {},
   "outputs": [],
   "source": [
    "df_cv = cross_validation(deaths_model, horizon=180)\n",
    "df_cv.head()"
   ]
  },
  {
   "cell_type": "code",
   "execution_count": null,
   "metadata": {},
   "outputs": [],
   "source": [
    "df_p = performance_metrics(df_cv)"
   ]
  },
  {
   "cell_type": "code",
   "execution_count": null,
   "metadata": {},
   "outputs": [],
   "source": [
    "mape = plot_cross_validation_metric(df_cv, metric='mape')"
   ]
  },
  {
   "cell_type": "code",
   "execution_count": null,
   "metadata": {},
   "outputs": [],
   "source": []
  }
 ],
 "metadata": {
  "kernelspec": {
   "display_name": "Python 3",
   "language": "python",
   "name": "python3"
  },
  "language_info": {
   "codemirror_mode": {
    "name": "ipython",
    "version": 3
   },
   "file_extension": ".py",
   "mimetype": "text/x-python",
   "name": "python",
   "nbconvert_exporter": "python",
   "pygments_lexer": "ipython3",
   "version": "3.7.6"
  }
 },
 "nbformat": 4,
 "nbformat_minor": 2
}
