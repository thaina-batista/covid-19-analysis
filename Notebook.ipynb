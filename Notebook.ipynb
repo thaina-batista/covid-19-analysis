{
 "cells": [
  {
   "cell_type": "code",
   "execution_count": null,
   "metadata": {},
   "outputs": [],
   "source": [
    "import pandas as pd\n",
    "from joblib import dump, load\n",
    "from datetime import datetime"
   ]
  },
  {
   "cell_type": "markdown",
   "metadata": {},
   "source": [
    "## Load datasets"
   ]
  },
  {
   "cell_type": "markdown",
   "metadata": {},
   "source": [
    "### Covid-19 cases\n"
   ]
  },
  {
   "cell_type": "code",
   "execution_count": null,
   "metadata": {},
   "outputs": [],
   "source": [
    "df_covid = pd.read_csv('Datasets/covid_19_cases/COVID-19 Activity.csv')"
   ]
  },
  {
   "cell_type": "markdown",
   "metadata": {},
   "source": [
    "Este dataset pode ser encontrado em: https://data.world/covid-19-data-resource-hub/covid-19-case-counts\n",
    "\n",
    "O download do arquivo utilizado neste estudo foi realizado em: xxxxx"
   ]
  },
  {
   "cell_type": "markdown",
   "metadata": {},
   "source": [
    "### Demographic"
   ]
  },
  {
   "cell_type": "code",
   "execution_count": null,
   "metadata": {},
   "outputs": [],
   "source": [
    "df_demographic = pd.read_csv('Datasets/demographic/demographic-2019.csv',  encoding='latin-1')"
   ]
  },
  {
   "cell_type": "markdown",
   "metadata": {},
   "source": [
    "Este dataset pode ser encontrado em: https://data.world/hdx/749ed4a9-6a89-4a3f-a4c8-b5359966a6e9\n",
    "        \n",
    "O download do arquivo utilizado neste estudo foi realizado em: xxxxx"
   ]
  },
  {
   "cell_type": "code",
   "execution_count": null,
   "metadata": {},
   "outputs": [],
   "source": [
    "df_demographic = df_demographic.loc[:, df_demographic.columns.intersection([\n",
    "                                         'ISO', \n",
    "                                         'Total population in millions, 2019',\n",
    "                                         'Total fertility rate, per woman, 2019',\n",
    "                                         'Population aged 0-14, percent, 2019',\n",
    "                                         'Population aged 10-24, percent, 2019',\n",
    "                                         'Population aged 15-64, percent, 2019',\n",
    "                                         'Population aged 65 and older, percent, 2019',\n",
    "                                         'Life expectancy at birth, years, 2019'])]"
   ]
  },
  {
   "cell_type": "code",
   "execution_count": null,
   "metadata": {},
   "outputs": [],
   "source": [
    "df_demographic = df_demographic.rename(columns={\"Total population in millions, 2019\": \"TOTAL_POPULATION\", \n",
    "                                                \"Total fertility rate, per woman, 2019\": \"FERTILITY_RATE\",\n",
    "                                                \"Population aged 0-14, percent, 2019\": \"PERCENT_POPULATION_AGED_0_14\",\n",
    "                                                \"Population aged 10-24, percent, 2019\": \"PERCENT_POPULATION_AGED_10_24\",\n",
    "                                                \"Population aged 15-64, percent, 2019\": \"PERCENT_POPULATION_AGED_15_64\",\n",
    "                                                \"Population aged 65 and older, percent, 2019\": \"PERCENT_POPULATION_AGED_65_OLDER\",\n",
    "                                                \"Life expectancy at birth, years, 2019\":\"LIFE_EXPECTANCY\"\n",
    "                                               })"
   ]
  },
  {
   "cell_type": "markdown",
   "metadata": {},
   "source": [
    "### Clean and prepare Dataset"
   ]
  },
  {
   "cell_type": "code",
   "execution_count": null,
   "metadata": {},
   "outputs": [],
   "source": [
    "df_covid['REPORT_DATE'] = pd.to_datetime(df_covid['REPORT_DATE'], format='%m/%d/%Y')"
   ]
  },
  {
   "cell_type": "code",
   "execution_count": null,
   "metadata": {},
   "outputs": [],
   "source": [
    "df_covid = df_covid.set_index('REPORT_DATE')"
   ]
  },
  {
   "cell_type": "code",
   "execution_count": null,
   "metadata": {},
   "outputs": [],
   "source": [
    "countries = df_covid['COUNTRY_SHORT_NAME'].unique()"
   ]
  },
  {
   "cell_type": "code",
   "execution_count": null,
   "metadata": {},
   "outputs": [],
   "source": [
    " for country in countries:\n",
    "        day_0_for_death = df_covid[(df_covid['COUNTRY_SHORT_NAME'] == country) & (df_covid['PEOPLE_DEATH_NEW_COUNT']>0)].index.min()\n",
    "        day_0_for_cases = df_covid[(df_covid['COUNTRY_SHORT_NAME'] == country) & (df_covid['PEOPLE_POSITIVE_NEW_CASES_COUNT']>0)].index.min()\n",
    "        DAYS_BETWEEN_FIRST_CASE_AND_FIRST_DEATH = (day_0_for_death-day_0_for_cases).days\n",
    "        df_covid.loc[df_covid['COUNTRY_SHORT_NAME'] == country, 'DAYS_AFTER_FIRST_DEATH'] = df_covid[df_covid['COUNTRY_SHORT_NAME'] == country].apply(lambda x: (x.name - day_0_for_death).days if (x.name - day_0_for_death).days >0 else None, axis=1)\n",
    "        df_covid.loc[df_covid['COUNTRY_SHORT_NAME'] == country, 'DAYS_AFTER_FIRST_CASE'] = df_covid[df_covid['COUNTRY_SHORT_NAME'] == country].apply(lambda x: (x.name - day_0_for_cases).days if (x.name - day_0_for_cases).days >0 else None, axis=1)\n",
    "        df_covid.loc[df_covid['COUNTRY_SHORT_NAME'] == country, 'DAYS_BETWEEN_FIRST_CASE_AND_FIRST_DEATH'] = DAYS_BETWEEN_FIRST_CASE_AND_FIRST_DEATH"
   ]
  },
  {
   "cell_type": "markdown",
   "metadata": {},
   "source": [
    "#### Final Dataset"
   ]
  },
  {
   "cell_type": "code",
   "execution_count": null,
   "metadata": {},
   "outputs": [],
   "source": [
    "df = pd.merge(df_covid, df_demographic, how='left', left_on='COUNTRY_ALPHA_2_CODE', right_on='ISO')"
   ]
  },
  {
   "cell_type": "markdown",
   "metadata": {},
   "source": [
    "## Training Model"
   ]
  },
  {
   "cell_type": "code",
   "execution_count": null,
   "metadata": {},
   "outputs": [],
   "source": [
    "import matplotlib.pyplot as plt\n",
    "import numpy as np\n",
    "from sklearn import datasets, ensemble\n",
    "from sklearn.inspection import permutation_importance\n",
    "from sklearn.metrics import mean_squared_error\n",
    "from sklearn.model_selection import train_test_split\n",
    "from sklearn.multioutput import MultiOutputRegressor"
   ]
  },
  {
   "cell_type": "markdown",
   "metadata": {},
   "source": [
    "### Pre processing"
   ]
  },
  {
   "cell_type": "code",
   "execution_count": null,
   "metadata": {},
   "outputs": [],
   "source": [
    "df_target = df.loc[:, df.columns.intersection([\n",
    "                                         'PEOPLE_DEATH_NEW_COUNT',\n",
    "                                         'PEOPLE_POSITIVE_NEW_CASES_COUNT'\n",
    "                                          ])]"
   ]
  },
  {
   "cell_type": "code",
   "execution_count": null,
   "metadata": {},
   "outputs": [],
   "source": [
    "df = df.loc[:, df.columns.intersection([\n",
    "                                         'COUNTRY_ALPHA_2_CODE',\n",
    "                                         'DAYS_BETWEEN_FIRST_CASE_AND_FIRST_DEATH',\n",
    "                                         'DAYS_AFTER_FIRST_DEATH',\n",
    "                                         'DAYS_AFTER_FIRST_CASE',\n",
    "                                         'TOTAL_POPULATION',\n",
    "                                         'FERTILITY_RATE',\n",
    "                                         'PERCENT_POPULATION_AGED_10_24',\n",
    "                                         'PERCENT_POPULATION_AGED_15_64',\n",
    "                                         'PERCENT_POPULATION_AGED_65_OLDER',\n",
    "                                         'LIFE_EXPECTANCY'])]"
   ]
  },
  {
   "cell_type": "code",
   "execution_count": null,
   "metadata": {},
   "outputs": [],
   "source": [
    "df = df.fillna(0)"
   ]
  },
  {
   "cell_type": "code",
   "execution_count": null,
   "metadata": {},
   "outputs": [],
   "source": [
    "df = df.replace('-', 0, regex=True)\n",
    "df = df.replace(',', '', regex=True)"
   ]
  },
  {
   "cell_type": "code",
   "execution_count": null,
   "metadata": {},
   "outputs": [],
   "source": [
    "df_dummies = pd.get_dummies(df['COUNTRY_ALPHA_2_CODE'])"
   ]
  },
  {
   "cell_type": "code",
   "execution_count": null,
   "metadata": {},
   "outputs": [],
   "source": [
    "df = pd.concat([df, df_dummies], axis=1)"
   ]
  },
  {
   "cell_type": "code",
   "execution_count": null,
   "metadata": {},
   "outputs": [],
   "source": [
    "df = df.drop(['COUNTRY_ALPHA_2_CODE'], axis=1)"
   ]
  },
  {
   "cell_type": "code",
   "execution_count": null,
   "metadata": {},
   "outputs": [],
   "source": [
    "df = df.astype({'DAYS_AFTER_FIRST_DEATH': 'float',\n",
    "           'TOTAL_POPULATION':'float',\n",
    "           'FERTILITY_RATE':'float',\n",
    "           'PERCENT_POPULATION_AGED_10_24':'float',\n",
    "           'PERCENT_POPULATION_AGED_15_64':'float',\n",
    "           'PERCENT_POPULATION_AGED_65_OLDER':'float',\n",
    "           'LIFE_EXPECTANCY':'float'\n",
    "})"
   ]
  },
  {
   "cell_type": "markdown",
   "metadata": {},
   "source": [
    "### Training"
   ]
  },
  {
   "cell_type": "code",
   "execution_count": null,
   "metadata": {},
   "outputs": [],
   "source": [
    "X, y = df, df_target"
   ]
  },
  {
   "cell_type": "code",
   "execution_count": null,
   "metadata": {},
   "outputs": [],
   "source": [
    "X_train, X_test, y_train, y_test = train_test_split(\n",
    "    X, y, test_size=0.1, random_state=20)\n",
    "\n",
    "params = {'n_estimators': 700,\n",
    "          'max_depth': 4,\n",
    "          'min_samples_split': 5,\n",
    "          'learning_rate': 0.01,\n",
    "          'loss': 'ls'}"
   ]
  },
  {
   "cell_type": "code",
   "execution_count": null,
   "metadata": {},
   "outputs": [],
   "source": [
    "reg = MultiOutputRegressor(ensemble.GradientBoostingRegressor(**params))\n",
    "reg.fit(X_train, y_train)"
   ]
  },
  {
   "cell_type": "code",
   "execution_count": null,
   "metadata": {},
   "outputs": [],
   "source": [
    "reg.score(X_train, y_train)"
   ]
  },
  {
   "cell_type": "code",
   "execution_count": null,
   "metadata": {},
   "outputs": [],
   "source": [
    "reg.score(X_test, y_test)"
   ]
  },
  {
   "cell_type": "markdown",
   "metadata": {},
   "source": [
    "### Persist Model"
   ]
  },
  {
   "cell_type": "code",
   "execution_count": null,
   "metadata": {},
   "outputs": [],
   "source": [
    "dump(reg, 'gradient_boosting.joblib') "
   ]
  },
  {
   "cell_type": "markdown",
   "metadata": {},
   "source": [
    "### Predict Brazil Data"
   ]
  },
  {
   "cell_type": "code",
   "execution_count": null,
   "metadata": {},
   "outputs": [],
   "source": [
    "df_predict_br = pd.read_csv('brazil_to_predict.csv')"
   ]
  },
  {
   "cell_type": "code",
   "execution_count": null,
   "metadata": {},
   "outputs": [],
   "source": [
    "df_predict_br.head()"
   ]
  },
  {
   "cell_type": "code",
   "execution_count": null,
   "metadata": {},
   "outputs": [],
   "source": [
    "df_predict_br = df_teste_br.drop(columns=['REPORT_DATE'])"
   ]
  },
  {
   "cell_type": "code",
   "execution_count": null,
   "metadata": {},
   "outputs": [],
   "source": [
    "gradient_boosting = load('gradient_boosting.joblib') "
   ]
  },
  {
   "cell_type": "code",
   "execution_count": null,
   "metadata": {},
   "outputs": [],
   "source": [
    "predicted = gradient_boosting.predict(df_predict_br)"
   ]
  }
 ],
 "metadata": {
  "kernelspec": {
   "display_name": "Python 3",
   "language": "python",
   "name": "python3"
  },
  "language_info": {
   "codemirror_mode": {
    "name": "ipython",
    "version": 3
   },
   "file_extension": ".py",
   "mimetype": "text/x-python",
   "name": "python",
   "nbconvert_exporter": "python",
   "pygments_lexer": "ipython3",
   "version": "3.7.6"
  }
 },
 "nbformat": 4,
 "nbformat_minor": 2
}
