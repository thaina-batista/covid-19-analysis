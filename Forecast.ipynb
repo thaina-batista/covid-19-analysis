{
 "cells": [
  {
   "cell_type": "code",
   "execution_count": 1,
   "metadata": {},
   "outputs": [
    {
     "name": "stderr",
     "output_type": "stream",
     "text": [
      "ERROR:fbprophet:Importing plotly failed. Interactive plots will not work.\n"
     ]
    }
   ],
   "source": [
    "from fbprophet import Prophet\n",
    "from fbprophet.diagnostics import performance_metrics\n",
    "from fbprophet.diagnostics import cross_validation\n",
    "from fbprophet.plot import plot_cross_validation_metric\n",
    "import pandas as pd"
   ]
  },
  {
   "cell_type": "markdown",
   "metadata": {},
   "source": [
    "## Read dataset and pre processing"
   ]
  },
  {
   "cell_type": "markdown",
   "metadata": {},
   "source": [
    "### Read Covid-19 cases\n"
   ]
  },
  {
   "cell_type": "code",
   "execution_count": 2,
   "metadata": {},
   "outputs": [],
   "source": [
    "df = pd.read_csv('Datasets/covid_19_cases/COVID-19 Activity.csv')"
   ]
  },
  {
   "cell_type": "markdown",
   "metadata": {},
   "source": [
    "Este dataset pode ser encontrado em: https://data.world/covid-19-data-resource-hub/covid-19-case-counts\n",
    "\n",
    "O download do arquivo utilizado neste estudo foi realizado em: 10/06/2020"
   ]
  },
  {
   "cell_type": "markdown",
   "metadata": {},
   "source": [
    "### Prepare Dataframes"
   ]
  },
  {
   "cell_type": "code",
   "execution_count": 3,
   "metadata": {},
   "outputs": [],
   "source": [
    "df['REPORT_DATE'] = pd.to_datetime(df['REPORT_DATE'], format='%m/%d/%Y')"
   ]
  },
  {
   "cell_type": "code",
   "execution_count": 4,
   "metadata": {},
   "outputs": [],
   "source": [
    "df_br = df[df['COUNTRY_ALPHA_2_CODE'] =='BR']"
   ]
  },
  {
   "cell_type": "code",
   "execution_count": 5,
   "metadata": {},
   "outputs": [],
   "source": [
    "df_br_cases = df_br.loc[:, df_br.columns.intersection([\n",
    "                                         'REPORT_DATE', \n",
    "                                         'PEOPLE_POSITIVE_NEW_CASES_COUNT'])]"
   ]
  },
  {
   "cell_type": "code",
   "execution_count": 6,
   "metadata": {},
   "outputs": [],
   "source": [
    "df_br_deaths = df_br.loc[:, df_br.columns.intersection([\n",
    "                                         'REPORT_DATE', \n",
    "                                         'PEOPLE_DEATH_NEW_COUNT'])]"
   ]
  },
  {
   "cell_type": "code",
   "execution_count": 7,
   "metadata": {},
   "outputs": [],
   "source": [
    "df_br_deaths = df_br.rename(columns={'REPORT_DATE':'ds','PEOPLE_DEATH_NEW_COUNT':'y'})"
   ]
  },
  {
   "cell_type": "code",
   "execution_count": 8,
   "metadata": {},
   "outputs": [],
   "source": [
    "df_br_cases = df_br.rename(columns={'REPORT_DATE':'ds','PEOPLE_POSITIVE_NEW_CASES_COUNT':'y'})"
   ]
  },
  {
   "cell_type": "markdown",
   "metadata": {},
   "source": [
    "## Predict"
   ]
  },
  {
   "cell_type": "markdown",
   "metadata": {},
   "source": [
    "### Cases"
   ]
  },
  {
   "cell_type": "code",
   "execution_count": 9,
   "metadata": {},
   "outputs": [],
   "source": [
    "cases_model = Prophet(daily_seasonality=True)"
   ]
  },
  {
   "cell_type": "code",
   "execution_count": 10,
   "metadata": {},
   "outputs": [
    {
     "name": "stderr",
     "output_type": "stream",
     "text": [
      "INFO:fbprophet:Disabling yearly seasonality. Run prophet with yearly_seasonality=True to override this.\n"
     ]
    },
    {
     "data": {
      "text/plain": [
       "<fbprophet.forecaster.Prophet at 0x7fc0162b7350>"
      ]
     },
     "execution_count": 10,
     "metadata": {},
     "output_type": "execute_result"
    }
   ],
   "source": [
    "cases_model.fit(df_br_cases)"
   ]
  },
  {
   "cell_type": "code",
   "execution_count": 11,
   "metadata": {},
   "outputs": [],
   "source": [
    "future_cases = cases_model.make_future_dataframe(periods=180)"
   ]
  },
  {
   "cell_type": "code",
   "execution_count": 12,
   "metadata": {},
   "outputs": [
    {
     "data": {
      "text/html": [
       "<div>\n",
       "<style scoped>\n",
       "    .dataframe tbody tr th:only-of-type {\n",
       "        vertical-align: middle;\n",
       "    }\n",
       "\n",
       "    .dataframe tbody tr th {\n",
       "        vertical-align: top;\n",
       "    }\n",
       "\n",
       "    .dataframe thead th {\n",
       "        text-align: right;\n",
       "    }\n",
       "</style>\n",
       "<table border=\"1\" class=\"dataframe\">\n",
       "  <thead>\n",
       "    <tr style=\"text-align: right;\">\n",
       "      <th></th>\n",
       "      <th>ds</th>\n",
       "      <th>yhat</th>\n",
       "      <th>yhat_lower</th>\n",
       "      <th>yhat_upper</th>\n",
       "    </tr>\n",
       "  </thead>\n",
       "  <tbody>\n",
       "    <tr>\n",
       "      <td>163</td>\n",
       "      <td>2020-06-11</td>\n",
       "      <td>27549.531907</td>\n",
       "      <td>24571.610372</td>\n",
       "      <td>30435.914610</td>\n",
       "    </tr>\n",
       "    <tr>\n",
       "      <td>164</td>\n",
       "      <td>2020-06-12</td>\n",
       "      <td>28330.906573</td>\n",
       "      <td>25570.226585</td>\n",
       "      <td>30966.355170</td>\n",
       "    </tr>\n",
       "    <tr>\n",
       "      <td>165</td>\n",
       "      <td>2020-06-13</td>\n",
       "      <td>28876.568144</td>\n",
       "      <td>26015.001694</td>\n",
       "      <td>31615.151633</td>\n",
       "    </tr>\n",
       "    <tr>\n",
       "      <td>166</td>\n",
       "      <td>2020-06-14</td>\n",
       "      <td>29147.109588</td>\n",
       "      <td>26445.292467</td>\n",
       "      <td>32150.239293</td>\n",
       "    </tr>\n",
       "    <tr>\n",
       "      <td>167</td>\n",
       "      <td>2020-06-15</td>\n",
       "      <td>27765.153035</td>\n",
       "      <td>24989.532869</td>\n",
       "      <td>30688.887550</td>\n",
       "    </tr>\n",
       "    <tr>\n",
       "      <td>...</td>\n",
       "      <td>...</td>\n",
       "      <td>...</td>\n",
       "      <td>...</td>\n",
       "      <td>...</td>\n",
       "    </tr>\n",
       "    <tr>\n",
       "      <td>338</td>\n",
       "      <td>2020-12-03</td>\n",
       "      <td>119123.844932</td>\n",
       "      <td>101120.618512</td>\n",
       "      <td>139084.629161</td>\n",
       "    </tr>\n",
       "    <tr>\n",
       "      <td>339</td>\n",
       "      <td>2020-12-04</td>\n",
       "      <td>119905.219598</td>\n",
       "      <td>101694.541952</td>\n",
       "      <td>140898.516261</td>\n",
       "    </tr>\n",
       "    <tr>\n",
       "      <td>340</td>\n",
       "      <td>2020-12-05</td>\n",
       "      <td>120450.881169</td>\n",
       "      <td>102441.684129</td>\n",
       "      <td>141820.235248</td>\n",
       "    </tr>\n",
       "    <tr>\n",
       "      <td>341</td>\n",
       "      <td>2020-12-06</td>\n",
       "      <td>120721.422614</td>\n",
       "      <td>102664.454717</td>\n",
       "      <td>141404.800589</td>\n",
       "    </tr>\n",
       "    <tr>\n",
       "      <td>342</td>\n",
       "      <td>2020-12-07</td>\n",
       "      <td>119339.466060</td>\n",
       "      <td>100956.520453</td>\n",
       "      <td>139948.257910</td>\n",
       "    </tr>\n",
       "  </tbody>\n",
       "</table>\n",
       "<p>180 rows × 4 columns</p>\n",
       "</div>"
      ],
      "text/plain": [
       "            ds           yhat     yhat_lower     yhat_upper\n",
       "163 2020-06-11   27549.531907   24571.610372   30435.914610\n",
       "164 2020-06-12   28330.906573   25570.226585   30966.355170\n",
       "165 2020-06-13   28876.568144   26015.001694   31615.151633\n",
       "166 2020-06-14   29147.109588   26445.292467   32150.239293\n",
       "167 2020-06-15   27765.153035   24989.532869   30688.887550\n",
       "..         ...            ...            ...            ...\n",
       "338 2020-12-03  119123.844932  101120.618512  139084.629161\n",
       "339 2020-12-04  119905.219598  101694.541952  140898.516261\n",
       "340 2020-12-05  120450.881169  102441.684129  141820.235248\n",
       "341 2020-12-06  120721.422614  102664.454717  141404.800589\n",
       "342 2020-12-07  119339.466060  100956.520453  139948.257910\n",
       "\n",
       "[180 rows x 4 columns]"
      ]
     },
     "execution_count": 12,
     "metadata": {},
     "output_type": "execute_result"
    }
   ],
   "source": [
    "forecast_cases = cases_model.predict(future_cases)\n",
    "forecast_cases[['ds', 'yhat', 'yhat_lower', 'yhat_upper']].tail(180)"
   ]
  },
  {
   "cell_type": "code",
   "execution_count": 13,
   "metadata": {},
   "outputs": [
    {
     "data": {
      "image/png": "[encoded data removed]",
      "text/plain": [
       "<Figure size 720x432 with 1 Axes>"
      ]
     },
     "metadata": {},
     "output_type": "display_data"
    }
   ],
   "source": [
    "cases_graph = cases_model.plot(forecast_cases)"
   ]
  },
  {
   "cell_type": "code",
   "execution_count": 14,
   "metadata": {},
   "outputs": [
    {
     "name": "stderr",
     "output_type": "stream",
     "text": [
      "INFO:fbprophet:Making 155 forecasts with cutoffs between 2020-01-07 23:59:59.999999820 and 2020-06-09 23:59:59.999999820\n",
      "INFO:fbprophet:n_changepoints greater than number of observations.Using 5.\n",
      "INFO:fbprophet:n_changepoints greater than number of observations.Using 6.\n",
      "INFO:fbprophet:n_changepoints greater than number of observations.Using 7.\n",
      "INFO:fbprophet:n_changepoints greater than number of observations.Using 7.\n",
      "INFO:fbprophet:n_changepoints greater than number of observations.Using 8.\n",
      "INFO:fbprophet:n_changepoints greater than number of observations.Using 9.\n",
      "INFO:fbprophet:n_changepoints greater than number of observations.Using 10.\n",
      "INFO:fbprophet:n_changepoints greater than number of observations.Using 11.\n",
      "INFO:fbprophet:n_changepoints greater than number of observations.Using 11.\n",
      "INFO:fbprophet:n_changepoints greater than number of observations.Using 12.\n",
      "INFO:fbprophet:n_changepoints greater than number of observations.Using 13.\n",
      "INFO:fbprophet:n_changepoints greater than number of observations.Using 14.\n",
      "INFO:fbprophet:n_changepoints greater than number of observations.Using 15.\n",
      "INFO:fbprophet:n_changepoints greater than number of observations.Using 15.\n",
      "INFO:fbprophet:n_changepoints greater than number of observations.Using 16.\n",
      "INFO:fbprophet:n_changepoints greater than number of observations.Using 17.\n",
      "INFO:fbprophet:n_changepoints greater than number of observations.Using 18.\n",
      "INFO:fbprophet:n_changepoints greater than number of observations.Using 19.\n",
      "INFO:fbprophet:n_changepoints greater than number of observations.Using 19.\n",
      "INFO:fbprophet:n_changepoints greater than number of observations.Using 20.\n",
      "INFO:fbprophet:n_changepoints greater than number of observations.Using 21.\n",
      "INFO:fbprophet:n_changepoints greater than number of observations.Using 22.\n",
      "INFO:fbprophet:n_changepoints greater than number of observations.Using 23.\n",
      "INFO:fbprophet:n_changepoints greater than number of observations.Using 23.\n",
      "INFO:fbprophet:n_changepoints greater than number of observations.Using 24.\n"
     ]
    },
    {
     "data": {
      "text/html": [
       "<div>\n",
       "<style scoped>\n",
       "    .dataframe tbody tr th:only-of-type {\n",
       "        vertical-align: middle;\n",
       "    }\n",
       "\n",
       "    .dataframe tbody tr th {\n",
       "        vertical-align: top;\n",
       "    }\n",
       "\n",
       "    .dataframe thead th {\n",
       "        text-align: right;\n",
       "    }\n",
       "</style>\n",
       "<table border=\"1\" class=\"dataframe\">\n",
       "  <thead>\n",
       "    <tr style=\"text-align: right;\">\n",
       "      <th></th>\n",
       "      <th>ds</th>\n",
       "      <th>yhat</th>\n",
       "      <th>yhat_lower</th>\n",
       "      <th>yhat_upper</th>\n",
       "      <th>y</th>\n",
       "      <th>cutoff</th>\n",
       "    </tr>\n",
       "  </thead>\n",
       "  <tbody>\n",
       "    <tr>\n",
       "      <td>0</td>\n",
       "      <td>2020-01-08</td>\n",
       "      <td>0.0</td>\n",
       "      <td>-1.644767e-09</td>\n",
       "      <td>1.567142e-09</td>\n",
       "      <td>0</td>\n",
       "      <td>2020-01-07 23:59:59.999999820</td>\n",
       "    </tr>\n",
       "    <tr>\n",
       "      <td>1</td>\n",
       "      <td>2020-01-09</td>\n",
       "      <td>0.0</td>\n",
       "      <td>-1.474446e-09</td>\n",
       "      <td>1.553780e-09</td>\n",
       "      <td>0</td>\n",
       "      <td>2020-01-08 23:59:59.999999820</td>\n",
       "    </tr>\n",
       "    <tr>\n",
       "      <td>2</td>\n",
       "      <td>2020-01-10</td>\n",
       "      <td>0.0</td>\n",
       "      <td>-1.490966e-09</td>\n",
       "      <td>1.464389e-09</td>\n",
       "      <td>0</td>\n",
       "      <td>2020-01-09 23:59:59.999999820</td>\n",
       "    </tr>\n",
       "    <tr>\n",
       "      <td>3</td>\n",
       "      <td>2020-01-11</td>\n",
       "      <td>0.0</td>\n",
       "      <td>-1.523709e-09</td>\n",
       "      <td>1.390305e-09</td>\n",
       "      <td>0</td>\n",
       "      <td>2020-01-10 23:59:59.999999820</td>\n",
       "    </tr>\n",
       "    <tr>\n",
       "      <td>4</td>\n",
       "      <td>2020-01-12</td>\n",
       "      <td>0.0</td>\n",
       "      <td>-1.356727e-09</td>\n",
       "      <td>1.455374e-09</td>\n",
       "      <td>0</td>\n",
       "      <td>2020-01-11 23:59:59.999999820</td>\n",
       "    </tr>\n",
       "  </tbody>\n",
       "</table>\n",
       "</div>"
      ],
      "text/plain": [
       "          ds  yhat    yhat_lower    yhat_upper  y  \\\n",
       "0 2020-01-08   0.0 -1.644767e-09  1.567142e-09  0   \n",
       "1 2020-01-09   0.0 -1.474446e-09  1.553780e-09  0   \n",
       "2 2020-01-10   0.0 -1.490966e-09  1.464389e-09  0   \n",
       "3 2020-01-11   0.0 -1.523709e-09  1.390305e-09  0   \n",
       "4 2020-01-12   0.0 -1.356727e-09  1.455374e-09  0   \n",
       "\n",
       "                         cutoff  \n",
       "0 2020-01-07 23:59:59.999999820  \n",
       "1 2020-01-08 23:59:59.999999820  \n",
       "2 2020-01-09 23:59:59.999999820  \n",
       "3 2020-01-10 23:59:59.999999820  \n",
       "4 2020-01-11 23:59:59.999999820  "
      ]
     },
     "execution_count": 14,
     "metadata": {},
     "output_type": "execute_result"
    }
   ],
   "source": [
    "df_cv = cross_validation(cases_model, horizon=180)\n",
    "df_cv.head()"
   ]
  },
  {
   "cell_type": "code",
   "execution_count": 15,
   "metadata": {},
   "outputs": [
    {
     "name": "stderr",
     "output_type": "stream",
     "text": [
      "INFO:fbprophet:Skipping MAPE because y close to 0\n"
     ]
    }
   ],
   "source": [
    "df_p = performance_metrics(df_cv)"
   ]
  },
  {
   "cell_type": "code",
   "execution_count": 16,
   "metadata": {},
   "outputs": [
    {
     "name": "stderr",
     "output_type": "stream",
     "text": [
      "INFO:fbprophet:Skipping MAPE because y close to 0\n",
      "INFO:fbprophet:Skipping MAPE because y close to 0\n"
     ]
    },
    {
     "ename": "TypeError",
     "evalue": "'NoneType' object is not subscriptable",
     "output_type": "error",
     "traceback": [
      "\u001b[0;31m\u001b[0m",
      "\u001b[0;31mTypeError\u001b[0mTraceback (most recent call last)",
      "\u001b[0;32m<ipython-input-16-4dfe3b0b717f>\u001b[0m in \u001b[0;36m<module>\u001b[0;34m\u001b[0m\n\u001b[0;32m----> 1\u001b[0;31m \u001b[0mmape\u001b[0m \u001b[0;34m=\u001b[0m \u001b[0mplot_cross_validation_metric\u001b[0m\u001b[0;34m(\u001b[0m\u001b[0mdf_cv\u001b[0m\u001b[0;34m,\u001b[0m \u001b[0mmetric\u001b[0m\u001b[0;34m=\u001b[0m\u001b[0;34m'mape'\u001b[0m\u001b[0;34m)\u001b[0m\u001b[0;34m\u001b[0m\u001b[0;34m\u001b[0m\u001b[0m\n\u001b[0m",
      "\u001b[0;32m/usr/local/lib/python3.7/site-packages/fbprophet/plot.py\u001b[0m in \u001b[0;36mplot_cross_validation_metric\u001b[0;34m(df_cv, metric, rolling_window, ax, figsize)\u001b[0m\n\u001b[1;32m    489\u001b[0m     \u001b[0;31m# Some work because matplotlib does not handle timedelta\u001b[0m\u001b[0;34m\u001b[0m\u001b[0;34m\u001b[0m\u001b[0;34m\u001b[0m\u001b[0m\n\u001b[1;32m    490\u001b[0m     \u001b[0;31m# Target ~10 ticks.\u001b[0m\u001b[0;34m\u001b[0m\u001b[0;34m\u001b[0m\u001b[0;34m\u001b[0m\u001b[0m\n\u001b[0;32m--> 491\u001b[0;31m     \u001b[0mtick_w\u001b[0m \u001b[0;34m=\u001b[0m \u001b[0mmax\u001b[0m\u001b[0;34m(\u001b[0m\u001b[0mdf_none\u001b[0m\u001b[0;34m[\u001b[0m\u001b[0;34m'horizon'\u001b[0m\u001b[0;34m]\u001b[0m\u001b[0;34m.\u001b[0m\u001b[0mastype\u001b[0m\u001b[0;34m(\u001b[0m\u001b[0;34m'timedelta64[ns]'\u001b[0m\u001b[0;34m)\u001b[0m\u001b[0;34m)\u001b[0m \u001b[0;34m/\u001b[0m \u001b[0;36m10.\u001b[0m\u001b[0;34m\u001b[0m\u001b[0;34m\u001b[0m\u001b[0m\n\u001b[0m\u001b[1;32m    492\u001b[0m     \u001b[0;31m# Find the largest time resolution that has <1 unit per bin.\u001b[0m\u001b[0;34m\u001b[0m\u001b[0;34m\u001b[0m\u001b[0;34m\u001b[0m\u001b[0m\n\u001b[1;32m    493\u001b[0m     \u001b[0mdts\u001b[0m \u001b[0;34m=\u001b[0m \u001b[0;34m[\u001b[0m\u001b[0;34m'D'\u001b[0m\u001b[0;34m,\u001b[0m \u001b[0;34m'h'\u001b[0m\u001b[0;34m,\u001b[0m \u001b[0;34m'm'\u001b[0m\u001b[0;34m,\u001b[0m \u001b[0;34m's'\u001b[0m\u001b[0;34m,\u001b[0m \u001b[0;34m'ms'\u001b[0m\u001b[0;34m,\u001b[0m \u001b[0;34m'us'\u001b[0m\u001b[0;34m,\u001b[0m \u001b[0;34m'ns'\u001b[0m\u001b[0;34m]\u001b[0m\u001b[0;34m\u001b[0m\u001b[0;34m\u001b[0m\u001b[0m\n",
      "\u001b[0;31mTypeError\u001b[0m: 'NoneType' object is not subscriptable"
     ]
    },
    {
     "data": {
      "image/png": "[encoded data removed]",
      "text/plain": [
       "<Figure size 720x432 with 1 Axes>"
      ]
     },
     "metadata": {},
     "output_type": "display_data"
    }
   ],
   "source": [
    "mape = plot_cross_validation_metric(df_cv, metric='mape')"
   ]
  },
  {
   "cell_type": "markdown",
   "metadata": {},
   "source": [
    "### Deaths"
   ]
  },
  {
   "cell_type": "code",
   "execution_count": 17,
   "metadata": {},
   "outputs": [],
   "source": [
    "deaths_model = Prophet(daily_seasonality=True)"
   ]
  },
  {
   "cell_type": "code",
   "execution_count": 18,
   "metadata": {},
   "outputs": [
    {
     "name": "stderr",
     "output_type": "stream",
     "text": [
      "INFO:fbprophet:Disabling yearly seasonality. Run prophet with yearly_seasonality=True to override this.\n"
     ]
    },
    {
     "data": {
      "text/plain": [
       "<fbprophet.forecaster.Prophet at 0x7fc013ed9950>"
      ]
     },
     "execution_count": 18,
     "metadata": {},
     "output_type": "execute_result"
    }
   ],
   "source": [
    "deaths_model.fit(df_br_deaths)"
   ]
  },
  {
   "cell_type": "code",
   "execution_count": 19,
   "metadata": {},
   "outputs": [],
   "source": [
    "future_deaths = deaths_model.make_future_dataframe(periods=180)"
   ]
  },
  {
   "cell_type": "code",
   "execution_count": 20,
   "metadata": {},
   "outputs": [
    {
     "data": {
      "text/html": [
       "<div>\n",
       "<style scoped>\n",
       "    .dataframe tbody tr th:only-of-type {\n",
       "        vertical-align: middle;\n",
       "    }\n",
       "\n",
       "    .dataframe tbody tr th {\n",
       "        vertical-align: top;\n",
       "    }\n",
       "\n",
       "    .dataframe thead th {\n",
       "        text-align: right;\n",
       "    }\n",
       "</style>\n",
       "<table border=\"1\" class=\"dataframe\">\n",
       "  <thead>\n",
       "    <tr style=\"text-align: right;\">\n",
       "      <th></th>\n",
       "      <th>ds</th>\n",
       "      <th>yhat</th>\n",
       "      <th>yhat_lower</th>\n",
       "      <th>yhat_upper</th>\n",
       "    </tr>\n",
       "  </thead>\n",
       "  <tbody>\n",
       "    <tr>\n",
       "      <td>163</td>\n",
       "      <td>2020-06-11</td>\n",
       "      <td>1161.302297</td>\n",
       "      <td>1023.793542</td>\n",
       "      <td>1297.263034</td>\n",
       "    </tr>\n",
       "    <tr>\n",
       "      <td>164</td>\n",
       "      <td>2020-06-12</td>\n",
       "      <td>1207.370042</td>\n",
       "      <td>1072.362608</td>\n",
       "      <td>1363.388728</td>\n",
       "    </tr>\n",
       "    <tr>\n",
       "      <td>165</td>\n",
       "      <td>2020-06-13</td>\n",
       "      <td>1190.319922</td>\n",
       "      <td>1048.820718</td>\n",
       "      <td>1332.650589</td>\n",
       "    </tr>\n",
       "    <tr>\n",
       "      <td>166</td>\n",
       "      <td>2020-06-14</td>\n",
       "      <td>1183.249024</td>\n",
       "      <td>1047.159755</td>\n",
       "      <td>1317.801912</td>\n",
       "    </tr>\n",
       "    <tr>\n",
       "      <td>167</td>\n",
       "      <td>2020-06-15</td>\n",
       "      <td>1101.049314</td>\n",
       "      <td>959.940598</td>\n",
       "      <td>1238.897525</td>\n",
       "    </tr>\n",
       "    <tr>\n",
       "      <td>...</td>\n",
       "      <td>...</td>\n",
       "      <td>...</td>\n",
       "      <td>...</td>\n",
       "      <td>...</td>\n",
       "    </tr>\n",
       "    <tr>\n",
       "      <td>338</td>\n",
       "      <td>2020-12-03</td>\n",
       "      <td>4100.932255</td>\n",
       "      <td>3487.931966</td>\n",
       "      <td>4757.042185</td>\n",
       "    </tr>\n",
       "    <tr>\n",
       "      <td>339</td>\n",
       "      <td>2020-12-04</td>\n",
       "      <td>4146.999999</td>\n",
       "      <td>3516.994656</td>\n",
       "      <td>4779.445066</td>\n",
       "    </tr>\n",
       "    <tr>\n",
       "      <td>340</td>\n",
       "      <td>2020-12-05</td>\n",
       "      <td>4129.949880</td>\n",
       "      <td>3495.174706</td>\n",
       "      <td>4768.372307</td>\n",
       "    </tr>\n",
       "    <tr>\n",
       "      <td>341</td>\n",
       "      <td>2020-12-06</td>\n",
       "      <td>4122.878981</td>\n",
       "      <td>3495.100750</td>\n",
       "      <td>4782.981029</td>\n",
       "    </tr>\n",
       "    <tr>\n",
       "      <td>342</td>\n",
       "      <td>2020-12-07</td>\n",
       "      <td>4040.679272</td>\n",
       "      <td>3422.142276</td>\n",
       "      <td>4680.208722</td>\n",
       "    </tr>\n",
       "  </tbody>\n",
       "</table>\n",
       "<p>180 rows × 4 columns</p>\n",
       "</div>"
      ],
      "text/plain": [
       "            ds         yhat   yhat_lower   yhat_upper\n",
       "163 2020-06-11  1161.302297  1023.793542  1297.263034\n",
       "164 2020-06-12  1207.370042  1072.362608  1363.388728\n",
       "165 2020-06-13  1190.319922  1048.820718  1332.650589\n",
       "166 2020-06-14  1183.249024  1047.159755  1317.801912\n",
       "167 2020-06-15  1101.049314   959.940598  1238.897525\n",
       "..         ...          ...          ...          ...\n",
       "338 2020-12-03  4100.932255  3487.931966  4757.042185\n",
       "339 2020-12-04  4146.999999  3516.994656  4779.445066\n",
       "340 2020-12-05  4129.949880  3495.174706  4768.372307\n",
       "341 2020-12-06  4122.878981  3495.100750  4782.981029\n",
       "342 2020-12-07  4040.679272  3422.142276  4680.208722\n",
       "\n",
       "[180 rows x 4 columns]"
      ]
     },
     "execution_count": 20,
     "metadata": {},
     "output_type": "execute_result"
    }
   ],
   "source": [
    "forecast_deaths = deaths_model.predict(future_deaths)\n",
    "forecast_deaths[['ds', 'yhat', 'yhat_lower', 'yhat_upper']].tail(180)"
   ]
  },
  {
   "cell_type": "code",
   "execution_count": 21,
   "metadata": {},
   "outputs": [
    {
     "data": {
      "image/png": "[encoded data removed]",
      "text/plain": [
       "<Figure size 720x432 with 1 Axes>"
      ]
     },
     "metadata": {},
     "output_type": "display_data"
    }
   ],
   "source": [
    "deaths_graph = deaths_model.plot(forecast_deaths)"
   ]
  },
  {
   "cell_type": "code",
   "execution_count": 22,
   "metadata": {},
   "outputs": [
    {
     "name": "stderr",
     "output_type": "stream",
     "text": [
      "INFO:fbprophet:Making 155 forecasts with cutoffs between 2020-01-07 23:59:59.999999820 and 2020-06-09 23:59:59.999999820\n",
      "INFO:fbprophet:n_changepoints greater than number of observations.Using 5.\n",
      "INFO:fbprophet:n_changepoints greater than number of observations.Using 6.\n",
      "INFO:fbprophet:n_changepoints greater than number of observations.Using 7.\n",
      "INFO:fbprophet:n_changepoints greater than number of observations.Using 7.\n",
      "INFO:fbprophet:n_changepoints greater than number of observations.Using 8.\n",
      "INFO:fbprophet:n_changepoints greater than number of observations.Using 9.\n",
      "INFO:fbprophet:n_changepoints greater than number of observations.Using 10.\n",
      "INFO:fbprophet:n_changepoints greater than number of observations.Using 11.\n",
      "INFO:fbprophet:n_changepoints greater than number of observations.Using 11.\n",
      "INFO:fbprophet:n_changepoints greater than number of observations.Using 12.\n",
      "INFO:fbprophet:n_changepoints greater than number of observations.Using 13.\n",
      "INFO:fbprophet:n_changepoints greater than number of observations.Using 14.\n",
      "INFO:fbprophet:n_changepoints greater than number of observations.Using 15.\n",
      "INFO:fbprophet:n_changepoints greater than number of observations.Using 15.\n",
      "INFO:fbprophet:n_changepoints greater than number of observations.Using 16.\n",
      "INFO:fbprophet:n_changepoints greater than number of observations.Using 17.\n",
      "INFO:fbprophet:n_changepoints greater than number of observations.Using 18.\n",
      "INFO:fbprophet:n_changepoints greater than number of observations.Using 19.\n",
      "INFO:fbprophet:n_changepoints greater than number of observations.Using 19.\n",
      "INFO:fbprophet:n_changepoints greater than number of observations.Using 20.\n",
      "INFO:fbprophet:n_changepoints greater than number of observations.Using 21.\n",
      "INFO:fbprophet:n_changepoints greater than number of observations.Using 22.\n",
      "INFO:fbprophet:n_changepoints greater than number of observations.Using 23.\n",
      "INFO:fbprophet:n_changepoints greater than number of observations.Using 23.\n",
      "INFO:fbprophet:n_changepoints greater than number of observations.Using 24.\n"
     ]
    },
    {
     "data": {
      "text/html": [
       "<div>\n",
       "<style scoped>\n",
       "    .dataframe tbody tr th:only-of-type {\n",
       "        vertical-align: middle;\n",
       "    }\n",
       "\n",
       "    .dataframe tbody tr th {\n",
       "        vertical-align: top;\n",
       "    }\n",
       "\n",
       "    .dataframe thead th {\n",
       "        text-align: right;\n",
       "    }\n",
       "</style>\n",
       "<table border=\"1\" class=\"dataframe\">\n",
       "  <thead>\n",
       "    <tr style=\"text-align: right;\">\n",
       "      <th></th>\n",
       "      <th>ds</th>\n",
       "      <th>yhat</th>\n",
       "      <th>yhat_lower</th>\n",
       "      <th>yhat_upper</th>\n",
       "      <th>y</th>\n",
       "      <th>cutoff</th>\n",
       "    </tr>\n",
       "  </thead>\n",
       "  <tbody>\n",
       "    <tr>\n",
       "      <td>0</td>\n",
       "      <td>2020-01-08</td>\n",
       "      <td>0.0</td>\n",
       "      <td>-1.573692e-09</td>\n",
       "      <td>1.587422e-09</td>\n",
       "      <td>0</td>\n",
       "      <td>2020-01-07 23:59:59.999999820</td>\n",
       "    </tr>\n",
       "    <tr>\n",
       "      <td>1</td>\n",
       "      <td>2020-01-09</td>\n",
       "      <td>0.0</td>\n",
       "      <td>-1.455301e-09</td>\n",
       "      <td>1.556991e-09</td>\n",
       "      <td>0</td>\n",
       "      <td>2020-01-08 23:59:59.999999820</td>\n",
       "    </tr>\n",
       "    <tr>\n",
       "      <td>2</td>\n",
       "      <td>2020-01-10</td>\n",
       "      <td>0.0</td>\n",
       "      <td>-1.509191e-09</td>\n",
       "      <td>1.593250e-09</td>\n",
       "      <td>0</td>\n",
       "      <td>2020-01-09 23:59:59.999999820</td>\n",
       "    </tr>\n",
       "    <tr>\n",
       "      <td>3</td>\n",
       "      <td>2020-01-11</td>\n",
       "      <td>0.0</td>\n",
       "      <td>-1.369911e-09</td>\n",
       "      <td>1.444841e-09</td>\n",
       "      <td>0</td>\n",
       "      <td>2020-01-10 23:59:59.999999820</td>\n",
       "    </tr>\n",
       "    <tr>\n",
       "      <td>4</td>\n",
       "      <td>2020-01-12</td>\n",
       "      <td>0.0</td>\n",
       "      <td>-1.413653e-09</td>\n",
       "      <td>1.538392e-09</td>\n",
       "      <td>0</td>\n",
       "      <td>2020-01-11 23:59:59.999999820</td>\n",
       "    </tr>\n",
       "  </tbody>\n",
       "</table>\n",
       "</div>"
      ],
      "text/plain": [
       "          ds  yhat    yhat_lower    yhat_upper  y  \\\n",
       "0 2020-01-08   0.0 -1.573692e-09  1.587422e-09  0   \n",
       "1 2020-01-09   0.0 -1.455301e-09  1.556991e-09  0   \n",
       "2 2020-01-10   0.0 -1.509191e-09  1.593250e-09  0   \n",
       "3 2020-01-11   0.0 -1.369911e-09  1.444841e-09  0   \n",
       "4 2020-01-12   0.0 -1.413653e-09  1.538392e-09  0   \n",
       "\n",
       "                         cutoff  \n",
       "0 2020-01-07 23:59:59.999999820  \n",
       "1 2020-01-08 23:59:59.999999820  \n",
       "2 2020-01-09 23:59:59.999999820  \n",
       "3 2020-01-10 23:59:59.999999820  \n",
       "4 2020-01-11 23:59:59.999999820  "
      ]
     },
     "execution_count": 22,
     "metadata": {},
     "output_type": "execute_result"
    }
   ],
   "source": [
    "df_cv = cross_validation(deaths_model, horizon=180)\n",
    "df_cv.head()"
   ]
  },
  {
   "cell_type": "code",
   "execution_count": 23,
   "metadata": {},
   "outputs": [
    {
     "name": "stderr",
     "output_type": "stream",
     "text": [
      "INFO:fbprophet:Skipping MAPE because y close to 0\n"
     ]
    }
   ],
   "source": [
    "df_p = performance_metrics(df_cv)"
   ]
  },
  {
   "cell_type": "code",
   "execution_count": 24,
   "metadata": {},
   "outputs": [
    {
     "name": "stderr",
     "output_type": "stream",
     "text": [
      "INFO:fbprophet:Skipping MAPE because y close to 0\n",
      "INFO:fbprophet:Skipping MAPE because y close to 0\n"
     ]
    },
    {
     "ename": "TypeError",
     "evalue": "'NoneType' object is not subscriptable",
     "output_type": "error",
     "traceback": [
      "\u001b[0;31m\u001b[0m",
      "\u001b[0;31mTypeError\u001b[0mTraceback (most recent call last)",
      "\u001b[0;32m<ipython-input-24-4dfe3b0b717f>\u001b[0m in \u001b[0;36m<module>\u001b[0;34m\u001b[0m\n\u001b[0;32m----> 1\u001b[0;31m \u001b[0mmape\u001b[0m \u001b[0;34m=\u001b[0m \u001b[0mplot_cross_validation_metric\u001b[0m\u001b[0;34m(\u001b[0m\u001b[0mdf_cv\u001b[0m\u001b[0;34m,\u001b[0m \u001b[0mmetric\u001b[0m\u001b[0;34m=\u001b[0m\u001b[0;34m'mape'\u001b[0m\u001b[0;34m)\u001b[0m\u001b[0;34m\u001b[0m\u001b[0;34m\u001b[0m\u001b[0m\n\u001b[0m",
      "\u001b[0;32m/usr/local/lib/python3.7/site-packages/fbprophet/plot.py\u001b[0m in \u001b[0;36mplot_cross_validation_metric\u001b[0;34m(df_cv, metric, rolling_window, ax, figsize)\u001b[0m\n\u001b[1;32m    489\u001b[0m     \u001b[0;31m# Some work because matplotlib does not handle timedelta\u001b[0m\u001b[0;34m\u001b[0m\u001b[0;34m\u001b[0m\u001b[0;34m\u001b[0m\u001b[0m\n\u001b[1;32m    490\u001b[0m     \u001b[0;31m# Target ~10 ticks.\u001b[0m\u001b[0;34m\u001b[0m\u001b[0;34m\u001b[0m\u001b[0;34m\u001b[0m\u001b[0m\n\u001b[0;32m--> 491\u001b[0;31m     \u001b[0mtick_w\u001b[0m \u001b[0;34m=\u001b[0m \u001b[0mmax\u001b[0m\u001b[0;34m(\u001b[0m\u001b[0mdf_none\u001b[0m\u001b[0;34m[\u001b[0m\u001b[0;34m'horizon'\u001b[0m\u001b[0;34m]\u001b[0m\u001b[0;34m.\u001b[0m\u001b[0mastype\u001b[0m\u001b[0;34m(\u001b[0m\u001b[0;34m'timedelta64[ns]'\u001b[0m\u001b[0;34m)\u001b[0m\u001b[0;34m)\u001b[0m \u001b[0;34m/\u001b[0m \u001b[0;36m10.\u001b[0m\u001b[0;34m\u001b[0m\u001b[0;34m\u001b[0m\u001b[0m\n\u001b[0m\u001b[1;32m    492\u001b[0m     \u001b[0;31m# Find the largest time resolution that has <1 unit per bin.\u001b[0m\u001b[0;34m\u001b[0m\u001b[0;34m\u001b[0m\u001b[0;34m\u001b[0m\u001b[0m\n\u001b[1;32m    493\u001b[0m     \u001b[0mdts\u001b[0m \u001b[0;34m=\u001b[0m \u001b[0;34m[\u001b[0m\u001b[0;34m'D'\u001b[0m\u001b[0;34m,\u001b[0m \u001b[0;34m'h'\u001b[0m\u001b[0;34m,\u001b[0m \u001b[0;34m'm'\u001b[0m\u001b[0;34m,\u001b[0m \u001b[0;34m's'\u001b[0m\u001b[0;34m,\u001b[0m \u001b[0;34m'ms'\u001b[0m\u001b[0;34m,\u001b[0m \u001b[0;34m'us'\u001b[0m\u001b[0;34m,\u001b[0m \u001b[0;34m'ns'\u001b[0m\u001b[0;34m]\u001b[0m\u001b[0;34m\u001b[0m\u001b[0;34m\u001b[0m\u001b[0m\n",
      "\u001b[0;31mTypeError\u001b[0m: 'NoneType' object is not subscriptable"
     ]
    },
    {
     "data": {
      "image/png": "[encoded data removed]",
      "text/plain": [
       "<Figure size 720x432 with 1 Axes>"
      ]
     },
     "metadata": {},
     "output_type": "display_data"
    }
   ],
   "source": [
    "mape = plot_cross_validation_metric(df_cv, metric='mape')"
   ]
  }
 ],
 "metadata": {
  "kernelspec": {
   "display_name": "Python 3",
   "language": "python",
   "name": "python3"
  },
  "language_info": {
   "codemirror_mode": {
    "name": "ipython",
    "version": 3
   },
   "file_extension": ".py",
   "mimetype": "text/x-python",
   "name": "python",
   "nbconvert_exporter": "python",
   "pygments_lexer": "ipython3",
   "version": "3.7.6"
  }
 },
 "nbformat": 4,
 "nbformat_minor": 2
}
